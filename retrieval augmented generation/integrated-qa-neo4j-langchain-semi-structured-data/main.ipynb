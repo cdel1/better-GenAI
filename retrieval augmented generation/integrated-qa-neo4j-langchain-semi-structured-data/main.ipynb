{
 "cells": [
  {
   "cell_type": "markdown",
   "id": "f9a0ec7e",
   "metadata": {},
   "source": [
    "# Enhanced Question Answering Integrating Unstructured and Graph Knowledge using Neo4j and LangChain"
   ]
  },
  {
   "cell_type": "markdown",
   "id": "0251d2b1",
   "metadata": {},
   "source": [
    "In this notebook, we walk through the implementation of a sophisticated question-answering system, leveraging the synergistic capabilities of Neo4j and LangChain. The step-by-step guide emphasises the process of integrating unstructured data and graph knowledge, ensuring a comprehensive understanding of utilizing Neo4j Vector Index and GraphCypherQAChain for enhanced, informed response generation with Mistral-7b."
   ]
  },
  {
   "cell_type": "markdown",
   "id": "8c426144",
   "metadata": {},
   "source": [
    "![semi-neo4j-langchain-pipeline.png](../../assets/img/semi-neo4j-langchain-pipeline.png)"
   ]
  },
  {
   "cell_type": "code",
   "execution_count": 6,
   "id": "82931536",
   "metadata": {},
   "outputs": [
    {
     "name": "stdout",
     "output_type": "stream",
     "text": [
      "Requirement already satisfied: langchain in /opt/homebrew/Caskroom/miniconda/base/envs/genAI/lib/python3.11/site-packages (0.0.354)\n",
      "Requirement already satisfied: pydantic in /opt/homebrew/Caskroom/miniconda/base/envs/genAI/lib/python3.11/site-packages (1.10.13)\n",
      "Requirement already satisfied: lxml in /opt/homebrew/Caskroom/miniconda/base/envs/genAI/lib/python3.11/site-packages (5.0.0)\n",
      "Requirement already satisfied: unstructured[all-docs] in /opt/homebrew/Caskroom/miniconda/base/envs/genAI/lib/python3.11/site-packages (0.11.8)\n",
      "Requirement already satisfied: PyYAML>=5.3 in /opt/homebrew/Caskroom/miniconda/base/envs/genAI/lib/python3.11/site-packages (from langchain) (6.0.1)\n",
      "Requirement already satisfied: SQLAlchemy<3,>=1.4 in /opt/homebrew/Caskroom/miniconda/base/envs/genAI/lib/python3.11/site-packages (from langchain) (2.0.25)\n",
      "Requirement already satisfied: aiohttp<4.0.0,>=3.8.3 in /opt/homebrew/Caskroom/miniconda/base/envs/genAI/lib/python3.11/site-packages (from langchain) (3.9.1)\n",
      "Requirement already satisfied: dataclasses-json<0.7,>=0.5.7 in /opt/homebrew/Caskroom/miniconda/base/envs/genAI/lib/python3.11/site-packages (from langchain) (0.6.3)\n",
      "Requirement already satisfied: jsonpatch<2.0,>=1.33 in /opt/homebrew/Caskroom/miniconda/base/envs/genAI/lib/python3.11/site-packages (from langchain) (1.33)\n",
      "Requirement already satisfied: langchain-community<0.1,>=0.0.8 in /opt/homebrew/Caskroom/miniconda/base/envs/genAI/lib/python3.11/site-packages (from langchain) (0.0.8)\n",
      "Requirement already satisfied: langchain-core<0.2,>=0.1.5 in /opt/homebrew/Caskroom/miniconda/base/envs/genAI/lib/python3.11/site-packages (from langchain) (0.1.5)\n",
      "Requirement already satisfied: langsmith<0.1.0,>=0.0.77 in /opt/homebrew/Caskroom/miniconda/base/envs/genAI/lib/python3.11/site-packages (from langchain) (0.0.77)\n",
      "Requirement already satisfied: numpy<2,>=1 in /opt/homebrew/Caskroom/miniconda/base/envs/genAI/lib/python3.11/site-packages (from langchain) (1.26.3)\n",
      "Requirement already satisfied: requests<3,>=2 in /opt/homebrew/Caskroom/miniconda/base/envs/genAI/lib/python3.11/site-packages (from langchain) (2.31.0)\n",
      "Requirement already satisfied: tenacity<9.0.0,>=8.1.0 in /opt/homebrew/Caskroom/miniconda/base/envs/genAI/lib/python3.11/site-packages (from langchain) (8.2.3)\n",
      "Requirement already satisfied: chardet in /opt/homebrew/Caskroom/miniconda/base/envs/genAI/lib/python3.11/site-packages (from unstructured[all-docs]) (5.2.0)\n",
      "Requirement already satisfied: filetype in /opt/homebrew/Caskroom/miniconda/base/envs/genAI/lib/python3.11/site-packages (from unstructured[all-docs]) (1.2.0)\n",
      "Requirement already satisfied: python-magic in /opt/homebrew/Caskroom/miniconda/base/envs/genAI/lib/python3.11/site-packages (from unstructured[all-docs]) (0.4.27)\n",
      "Requirement already satisfied: nltk in /opt/homebrew/Caskroom/miniconda/base/envs/genAI/lib/python3.11/site-packages (from unstructured[all-docs]) (3.8.1)\n",
      "Requirement already satisfied: tabulate in /opt/homebrew/Caskroom/miniconda/base/envs/genAI/lib/python3.11/site-packages (from unstructured[all-docs]) (0.9.0)\n",
      "Requirement already satisfied: beautifulsoup4 in /opt/homebrew/Caskroom/miniconda/base/envs/genAI/lib/python3.11/site-packages (from unstructured[all-docs]) (4.12.2)\n",
      "Requirement already satisfied: emoji in /opt/homebrew/Caskroom/miniconda/base/envs/genAI/lib/python3.11/site-packages (from unstructured[all-docs]) (2.9.0)\n",
      "Requirement already satisfied: python-iso639 in /opt/homebrew/Caskroom/miniconda/base/envs/genAI/lib/python3.11/site-packages (from unstructured[all-docs]) (2024.1.2)\n",
      "Requirement already satisfied: langdetect in /opt/homebrew/Caskroom/miniconda/base/envs/genAI/lib/python3.11/site-packages (from unstructured[all-docs]) (1.0.9)\n",
      "Requirement already satisfied: rapidfuzz in /opt/homebrew/Caskroom/miniconda/base/envs/genAI/lib/python3.11/site-packages (from unstructured[all-docs]) (3.6.1)\n",
      "Requirement already satisfied: backoff in /opt/homebrew/Caskroom/miniconda/base/envs/genAI/lib/python3.11/site-packages (from unstructured[all-docs]) (2.2.1)\n",
      "Requirement already satisfied: typing-extensions in /opt/homebrew/Caskroom/miniconda/base/envs/genAI/lib/python3.11/site-packages (from unstructured[all-docs]) (4.9.0)\n",
      "Requirement already satisfied: unstructured-client in /opt/homebrew/Caskroom/miniconda/base/envs/genAI/lib/python3.11/site-packages (from unstructured[all-docs]) (0.15.1)\n",
      "Requirement already satisfied: wrapt in /opt/homebrew/Caskroom/miniconda/base/envs/genAI/lib/python3.11/site-packages (from unstructured[all-docs]) (1.16.0)\n",
      "Requirement already satisfied: pypandoc in /opt/homebrew/Caskroom/miniconda/base/envs/genAI/lib/python3.11/site-packages (from unstructured[all-docs]) (1.12)\n",
      "Requirement already satisfied: pandas in /opt/homebrew/Caskroom/miniconda/base/envs/genAI/lib/python3.11/site-packages (from unstructured[all-docs]) (2.1.4)\n",
      "Requirement already satisfied: python-docx>=1.1.0 in /opt/homebrew/Caskroom/miniconda/base/envs/genAI/lib/python3.11/site-packages (from unstructured[all-docs]) (1.1.0)\n",
      "Requirement already satisfied: networkx in /opt/homebrew/Caskroom/miniconda/base/envs/genAI/lib/python3.11/site-packages (from unstructured[all-docs]) (3.2.1)\n",
      "Requirement already satisfied: pypdf in /opt/homebrew/Caskroom/miniconda/base/envs/genAI/lib/python3.11/site-packages (from unstructured[all-docs]) (3.17.4)\n",
      "Requirement already satisfied: unstructured.pytesseract>=0.3.12 in /opt/homebrew/Caskroom/miniconda/base/envs/genAI/lib/python3.11/site-packages (from unstructured[all-docs]) (0.3.12)\n",
      "Requirement already satisfied: markdown in /opt/homebrew/Caskroom/miniconda/base/envs/genAI/lib/python3.11/site-packages (from unstructured[all-docs]) (3.5.1)\n",
      "Requirement already satisfied: python-pptx<=0.6.23 in /opt/homebrew/Caskroom/miniconda/base/envs/genAI/lib/python3.11/site-packages (from unstructured[all-docs]) (0.6.23)\n",
      "Requirement already satisfied: pdf2image in /opt/homebrew/Caskroom/miniconda/base/envs/genAI/lib/python3.11/site-packages (from unstructured[all-docs]) (1.16.3)\n",
      "Requirement already satisfied: onnx in /opt/homebrew/Caskroom/miniconda/base/envs/genAI/lib/python3.11/site-packages (from unstructured[all-docs]) (1.15.0)\n",
      "Requirement already satisfied: msg-parser in /opt/homebrew/Caskroom/miniconda/base/envs/genAI/lib/python3.11/site-packages (from unstructured[all-docs]) (1.2.0)\n",
      "Requirement already satisfied: pikepdf in /opt/homebrew/Caskroom/miniconda/base/envs/genAI/lib/python3.11/site-packages (from unstructured[all-docs]) (8.11.2)\n",
      "Requirement already satisfied: openpyxl in /opt/homebrew/Caskroom/miniconda/base/envs/genAI/lib/python3.11/site-packages (from unstructured[all-docs]) (3.1.2)\n",
      "Requirement already satisfied: pdfminer.six in /opt/homebrew/Caskroom/miniconda/base/envs/genAI/lib/python3.11/site-packages (from unstructured[all-docs]) (20221105)\n",
      "Requirement already satisfied: xlrd in /opt/homebrew/Caskroom/miniconda/base/envs/genAI/lib/python3.11/site-packages (from unstructured[all-docs]) (2.0.1)\n",
      "Requirement already satisfied: unstructured-inference==0.7.18 in /opt/homebrew/Caskroom/miniconda/base/envs/genAI/lib/python3.11/site-packages (from unstructured[all-docs]) (0.7.18)\n",
      "Requirement already satisfied: layoutparser[layoutmodels,tesseract] in /opt/homebrew/Caskroom/miniconda/base/envs/genAI/lib/python3.11/site-packages (from unstructured-inference==0.7.18->unstructured[all-docs]) (0.3.4)\n",
      "Requirement already satisfied: python-multipart in /opt/homebrew/Caskroom/miniconda/base/envs/genAI/lib/python3.11/site-packages (from unstructured-inference==0.7.18->unstructured[all-docs]) (0.0.6)\n",
      "Requirement already satisfied: huggingface-hub in /opt/homebrew/Caskroom/miniconda/base/envs/genAI/lib/python3.11/site-packages (from unstructured-inference==0.7.18->unstructured[all-docs]) (0.20.1)\n",
      "Requirement already satisfied: opencv-python!=4.7.0.68 in /opt/homebrew/Caskroom/miniconda/base/envs/genAI/lib/python3.11/site-packages (from unstructured-inference==0.7.18->unstructured[all-docs]) (4.9.0.80)\n",
      "Requirement already satisfied: onnxruntime<1.16 in /opt/homebrew/Caskroom/miniconda/base/envs/genAI/lib/python3.11/site-packages (from unstructured-inference==0.7.18->unstructured[all-docs]) (1.15.1)\n",
      "Requirement already satisfied: transformers>=4.25.1 in /opt/homebrew/Caskroom/miniconda/base/envs/genAI/lib/python3.11/site-packages (from unstructured-inference==0.7.18->unstructured[all-docs]) (4.36.2)\n",
      "Requirement already satisfied: attrs>=17.3.0 in /opt/homebrew/Caskroom/miniconda/base/envs/genAI/lib/python3.11/site-packages (from aiohttp<4.0.0,>=3.8.3->langchain) (23.2.0)\n",
      "Requirement already satisfied: multidict<7.0,>=4.5 in /opt/homebrew/Caskroom/miniconda/base/envs/genAI/lib/python3.11/site-packages (from aiohttp<4.0.0,>=3.8.3->langchain) (6.0.4)\n",
      "Requirement already satisfied: yarl<2.0,>=1.0 in /opt/homebrew/Caskroom/miniconda/base/envs/genAI/lib/python3.11/site-packages (from aiohttp<4.0.0,>=3.8.3->langchain) (1.9.4)\n",
      "Requirement already satisfied: frozenlist>=1.1.1 in /opt/homebrew/Caskroom/miniconda/base/envs/genAI/lib/python3.11/site-packages (from aiohttp<4.0.0,>=3.8.3->langchain) (1.4.1)\n",
      "Requirement already satisfied: aiosignal>=1.1.2 in /opt/homebrew/Caskroom/miniconda/base/envs/genAI/lib/python3.11/site-packages (from aiohttp<4.0.0,>=3.8.3->langchain) (1.3.1)\n",
      "Requirement already satisfied: marshmallow<4.0.0,>=3.18.0 in /opt/homebrew/Caskroom/miniconda/base/envs/genAI/lib/python3.11/site-packages (from dataclasses-json<0.7,>=0.5.7->langchain) (3.20.1)\n",
      "Requirement already satisfied: typing-inspect<1,>=0.4.0 in /opt/homebrew/Caskroom/miniconda/base/envs/genAI/lib/python3.11/site-packages (from dataclasses-json<0.7,>=0.5.7->langchain) (0.9.0)\n",
      "Requirement already satisfied: jsonpointer>=1.9 in /opt/homebrew/Caskroom/miniconda/base/envs/genAI/lib/python3.11/site-packages (from jsonpatch<2.0,>=1.33->langchain) (2.4)\n",
      "Requirement already satisfied: anyio<5,>=3 in /opt/homebrew/Caskroom/miniconda/base/envs/genAI/lib/python3.11/site-packages (from langchain-core<0.2,>=0.1.5->langchain) (4.2.0)\n",
      "Requirement already satisfied: packaging<24.0,>=23.2 in /opt/homebrew/Caskroom/miniconda/base/envs/genAI/lib/python3.11/site-packages (from langchain-core<0.2,>=0.1.5->langchain) (23.2)\n",
      "Requirement already satisfied: Pillow>=3.3.2 in /opt/homebrew/Caskroom/miniconda/base/envs/genAI/lib/python3.11/site-packages (from python-pptx<=0.6.23->unstructured[all-docs]) (10.2.0)\n",
      "Requirement already satisfied: XlsxWriter>=0.5.7 in /opt/homebrew/Caskroom/miniconda/base/envs/genAI/lib/python3.11/site-packages (from python-pptx<=0.6.23->unstructured[all-docs]) (3.1.9)\n",
      "Requirement already satisfied: charset-normalizer<4,>=2 in /opt/homebrew/Caskroom/miniconda/base/envs/genAI/lib/python3.11/site-packages (from requests<3,>=2->langchain) (3.3.2)\n",
      "Requirement already satisfied: idna<4,>=2.5 in /opt/homebrew/Caskroom/miniconda/base/envs/genAI/lib/python3.11/site-packages (from requests<3,>=2->langchain) (3.6)\n",
      "Requirement already satisfied: urllib3<3,>=1.21.1 in /opt/homebrew/Caskroom/miniconda/base/envs/genAI/lib/python3.11/site-packages (from requests<3,>=2->langchain) (1.26.18)\n",
      "Requirement already satisfied: certifi>=2017.4.17 in /opt/homebrew/Caskroom/miniconda/base/envs/genAI/lib/python3.11/site-packages (from requests<3,>=2->langchain) (2023.11.17)\n",
      "Requirement already satisfied: soupsieve>1.2 in /opt/homebrew/Caskroom/miniconda/base/envs/genAI/lib/python3.11/site-packages (from beautifulsoup4->unstructured[all-docs]) (2.5)\n",
      "Requirement already satisfied: six in /opt/homebrew/Caskroom/miniconda/base/envs/genAI/lib/python3.11/site-packages (from langdetect->unstructured[all-docs]) (1.16.0)\n",
      "Requirement already satisfied: olefile>=0.46 in /opt/homebrew/Caskroom/miniconda/base/envs/genAI/lib/python3.11/site-packages (from msg-parser->unstructured[all-docs]) (0.47)\n",
      "Requirement already satisfied: click in /opt/homebrew/Caskroom/miniconda/base/envs/genAI/lib/python3.11/site-packages (from nltk->unstructured[all-docs]) (8.1.7)\n",
      "Requirement already satisfied: joblib in /opt/homebrew/Caskroom/miniconda/base/envs/genAI/lib/python3.11/site-packages (from nltk->unstructured[all-docs]) (1.3.2)\n",
      "Requirement already satisfied: regex>=2021.8.3 in /opt/homebrew/Caskroom/miniconda/base/envs/genAI/lib/python3.11/site-packages (from nltk->unstructured[all-docs]) (2023.12.25)\n",
      "Requirement already satisfied: tqdm in /opt/homebrew/Caskroom/miniconda/base/envs/genAI/lib/python3.11/site-packages (from nltk->unstructured[all-docs]) (4.66.1)\n",
      "Requirement already satisfied: protobuf>=3.20.2 in /opt/homebrew/Caskroom/miniconda/base/envs/genAI/lib/python3.11/site-packages (from onnx->unstructured[all-docs]) (4.23.4)\n",
      "Requirement already satisfied: et-xmlfile in /opt/homebrew/Caskroom/miniconda/base/envs/genAI/lib/python3.11/site-packages (from openpyxl->unstructured[all-docs]) (1.1.0)\n",
      "Requirement already satisfied: python-dateutil>=2.8.2 in /opt/homebrew/Caskroom/miniconda/base/envs/genAI/lib/python3.11/site-packages (from pandas->unstructured[all-docs]) (2.8.2)\n",
      "Requirement already satisfied: pytz>=2020.1 in /opt/homebrew/Caskroom/miniconda/base/envs/genAI/lib/python3.11/site-packages (from pandas->unstructured[all-docs]) (2023.3.post1)\n",
      "Requirement already satisfied: tzdata>=2022.1 in /opt/homebrew/Caskroom/miniconda/base/envs/genAI/lib/python3.11/site-packages (from pandas->unstructured[all-docs]) (2023.4)\n",
      "Requirement already satisfied: cryptography>=36.0.0 in /opt/homebrew/Caskroom/miniconda/base/envs/genAI/lib/python3.11/site-packages (from pdfminer.six->unstructured[all-docs]) (41.0.7)\n",
      "Requirement already satisfied: Deprecated in /opt/homebrew/Caskroom/miniconda/base/envs/genAI/lib/python3.11/site-packages (from pikepdf->unstructured[all-docs]) (1.2.14)\n",
      "Requirement already satisfied: jsonpath-python>=1.0.6 in /opt/homebrew/Caskroom/miniconda/base/envs/genAI/lib/python3.11/site-packages (from unstructured-client->unstructured[all-docs]) (1.0.6)\n",
      "Requirement already satisfied: mypy-extensions>=1.0.0 in /opt/homebrew/Caskroom/miniconda/base/envs/genAI/lib/python3.11/site-packages (from unstructured-client->unstructured[all-docs]) (1.0.0)\n",
      "Requirement already satisfied: sniffio>=1.1 in /opt/homebrew/Caskroom/miniconda/base/envs/genAI/lib/python3.11/site-packages (from anyio<5,>=3->langchain-core<0.2,>=0.1.5->langchain) (1.3.0)\n",
      "Requirement already satisfied: cffi>=1.12 in /opt/homebrew/Caskroom/miniconda/base/envs/genAI/lib/python3.11/site-packages (from cryptography>=36.0.0->pdfminer.six->unstructured[all-docs]) (1.16.0)\n",
      "Requirement already satisfied: coloredlogs in /opt/homebrew/Caskroom/miniconda/base/envs/genAI/lib/python3.11/site-packages (from onnxruntime<1.16->unstructured-inference==0.7.18->unstructured[all-docs]) (15.0.1)\n",
      "Requirement already satisfied: flatbuffers in /opt/homebrew/Caskroom/miniconda/base/envs/genAI/lib/python3.11/site-packages (from onnxruntime<1.16->unstructured-inference==0.7.18->unstructured[all-docs]) (23.5.26)\n",
      "Requirement already satisfied: sympy in /opt/homebrew/Caskroom/miniconda/base/envs/genAI/lib/python3.11/site-packages (from onnxruntime<1.16->unstructured-inference==0.7.18->unstructured[all-docs]) (1.12)\n",
      "Requirement already satisfied: filelock in /opt/homebrew/Caskroom/miniconda/base/envs/genAI/lib/python3.11/site-packages (from transformers>=4.25.1->unstructured-inference==0.7.18->unstructured[all-docs]) (3.13.1)\n",
      "Requirement already satisfied: tokenizers<0.19,>=0.14 in /opt/homebrew/Caskroom/miniconda/base/envs/genAI/lib/python3.11/site-packages (from transformers>=4.25.1->unstructured-inference==0.7.18->unstructured[all-docs]) (0.15.0)\n",
      "Requirement already satisfied: safetensors>=0.3.1 in /opt/homebrew/Caskroom/miniconda/base/envs/genAI/lib/python3.11/site-packages (from transformers>=4.25.1->unstructured-inference==0.7.18->unstructured[all-docs]) (0.4.1)\n",
      "Requirement already satisfied: fsspec>=2023.5.0 in /opt/homebrew/Caskroom/miniconda/base/envs/genAI/lib/python3.11/site-packages (from huggingface-hub->unstructured-inference==0.7.18->unstructured[all-docs]) (2023.12.2)\n",
      "Requirement already satisfied: scipy in /opt/homebrew/Caskroom/miniconda/base/envs/genAI/lib/python3.11/site-packages (from layoutparser[layoutmodels,tesseract]->unstructured-inference==0.7.18->unstructured[all-docs]) (1.11.4)\n",
      "Requirement already satisfied: iopath in /opt/homebrew/Caskroom/miniconda/base/envs/genAI/lib/python3.11/site-packages (from layoutparser[layoutmodels,tesseract]->unstructured-inference==0.7.18->unstructured[all-docs]) (0.1.9)\n",
      "Requirement already satisfied: pdfplumber in /opt/homebrew/Caskroom/miniconda/base/envs/genAI/lib/python3.11/site-packages (from layoutparser[layoutmodels,tesseract]->unstructured-inference==0.7.18->unstructured[all-docs]) (0.10.3)\n",
      "Requirement already satisfied: torch in /opt/homebrew/Caskroom/miniconda/base/envs/genAI/lib/python3.11/site-packages (from layoutparser[layoutmodels,tesseract]->unstructured-inference==0.7.18->unstructured[all-docs]) (2.1.2)\n",
      "Requirement already satisfied: torchvision in /opt/homebrew/Caskroom/miniconda/base/envs/genAI/lib/python3.11/site-packages (from layoutparser[layoutmodels,tesseract]->unstructured-inference==0.7.18->unstructured[all-docs]) (0.16.2)\n",
      "Requirement already satisfied: effdet in /opt/homebrew/Caskroom/miniconda/base/envs/genAI/lib/python3.11/site-packages (from layoutparser[layoutmodels,tesseract]->unstructured-inference==0.7.18->unstructured[all-docs]) (0.4.1)\n",
      "Requirement already satisfied: pytesseract in /opt/homebrew/Caskroom/miniconda/base/envs/genAI/lib/python3.11/site-packages (from layoutparser[layoutmodels,tesseract]->unstructured-inference==0.7.18->unstructured[all-docs]) (0.3.10)\n",
      "Requirement already satisfied: pycparser in /opt/homebrew/Caskroom/miniconda/base/envs/genAI/lib/python3.11/site-packages (from cffi>=1.12->cryptography>=36.0.0->pdfminer.six->unstructured[all-docs]) (2.21)\n",
      "Requirement already satisfied: humanfriendly>=9.1 in /opt/homebrew/Caskroom/miniconda/base/envs/genAI/lib/python3.11/site-packages (from coloredlogs->onnxruntime<1.16->unstructured-inference==0.7.18->unstructured[all-docs]) (10.0)\n",
      "Requirement already satisfied: timm>=0.9.2 in /opt/homebrew/Caskroom/miniconda/base/envs/genAI/lib/python3.11/site-packages (from effdet->layoutparser[layoutmodels,tesseract]->unstructured-inference==0.7.18->unstructured[all-docs]) (0.9.12)\n",
      "Requirement already satisfied: pycocotools>=2.0.2 in /opt/homebrew/Caskroom/miniconda/base/envs/genAI/lib/python3.11/site-packages (from effdet->layoutparser[layoutmodels,tesseract]->unstructured-inference==0.7.18->unstructured[all-docs]) (2.0.7)\n",
      "Requirement already satisfied: omegaconf>=2.0 in /opt/homebrew/Caskroom/miniconda/base/envs/genAI/lib/python3.11/site-packages (from effdet->layoutparser[layoutmodels,tesseract]->unstructured-inference==0.7.18->unstructured[all-docs]) (2.3.0)\n",
      "Requirement already satisfied: jinja2 in /opt/homebrew/Caskroom/miniconda/base/envs/genAI/lib/python3.11/site-packages (from torch->layoutparser[layoutmodels,tesseract]->unstructured-inference==0.7.18->unstructured[all-docs]) (3.1.2)\n",
      "Requirement already satisfied: portalocker in /opt/homebrew/Caskroom/miniconda/base/envs/genAI/lib/python3.11/site-packages (from iopath->layoutparser[layoutmodels,tesseract]->unstructured-inference==0.7.18->unstructured[all-docs]) (2.8.2)\n",
      "Requirement already satisfied: pypdfium2>=4.18.0 in /opt/homebrew/Caskroom/miniconda/base/envs/genAI/lib/python3.11/site-packages (from pdfplumber->layoutparser[layoutmodels,tesseract]->unstructured-inference==0.7.18->unstructured[all-docs]) (4.25.0)\n",
      "Requirement already satisfied: mpmath>=0.19 in /opt/homebrew/Caskroom/miniconda/base/envs/genAI/lib/python3.11/site-packages (from sympy->onnxruntime<1.16->unstructured-inference==0.7.18->unstructured[all-docs]) (1.3.0)\n",
      "Requirement already satisfied: antlr4-python3-runtime==4.9.* in /opt/homebrew/Caskroom/miniconda/base/envs/genAI/lib/python3.11/site-packages (from omegaconf>=2.0->effdet->layoutparser[layoutmodels,tesseract]->unstructured-inference==0.7.18->unstructured[all-docs]) (4.9.3)\n",
      "Requirement already satisfied: matplotlib>=2.1.0 in /opt/homebrew/Caskroom/miniconda/base/envs/genAI/lib/python3.11/site-packages (from pycocotools>=2.0.2->effdet->layoutparser[layoutmodels,tesseract]->unstructured-inference==0.7.18->unstructured[all-docs]) (3.8.2)\n",
      "Requirement already satisfied: MarkupSafe>=2.0 in /opt/homebrew/Caskroom/miniconda/base/envs/genAI/lib/python3.11/site-packages (from jinja2->torch->layoutparser[layoutmodels,tesseract]->unstructured-inference==0.7.18->unstructured[all-docs]) (2.1.3)\n",
      "Requirement already satisfied: contourpy>=1.0.1 in /opt/homebrew/Caskroom/miniconda/base/envs/genAI/lib/python3.11/site-packages (from matplotlib>=2.1.0->pycocotools>=2.0.2->effdet->layoutparser[layoutmodels,tesseract]->unstructured-inference==0.7.18->unstructured[all-docs]) (1.2.0)\n",
      "Requirement already satisfied: cycler>=0.10 in /opt/homebrew/Caskroom/miniconda/base/envs/genAI/lib/python3.11/site-packages (from matplotlib>=2.1.0->pycocotools>=2.0.2->effdet->layoutparser[layoutmodels,tesseract]->unstructured-inference==0.7.18->unstructured[all-docs]) (0.12.1)\n",
      "Requirement already satisfied: fonttools>=4.22.0 in /opt/homebrew/Caskroom/miniconda/base/envs/genAI/lib/python3.11/site-packages (from matplotlib>=2.1.0->pycocotools>=2.0.2->effdet->layoutparser[layoutmodels,tesseract]->unstructured-inference==0.7.18->unstructured[all-docs]) (4.47.0)\n",
      "Requirement already satisfied: kiwisolver>=1.3.1 in /opt/homebrew/Caskroom/miniconda/base/envs/genAI/lib/python3.11/site-packages (from matplotlib>=2.1.0->pycocotools>=2.0.2->effdet->layoutparser[layoutmodels,tesseract]->unstructured-inference==0.7.18->unstructured[all-docs]) (1.4.5)\n",
      "Requirement already satisfied: pyparsing>=2.3.1 in /opt/homebrew/Caskroom/miniconda/base/envs/genAI/lib/python3.11/site-packages (from matplotlib>=2.1.0->pycocotools>=2.0.2->effdet->layoutparser[layoutmodels,tesseract]->unstructured-inference==0.7.18->unstructured[all-docs]) (3.1.1)\n",
      "Requirement already satisfied: openai in /opt/homebrew/Caskroom/miniconda/base/envs/genAI/lib/python3.11/site-packages (1.6.1)\n",
      "Requirement already satisfied: wikipedia in /opt/homebrew/Caskroom/miniconda/base/envs/genAI/lib/python3.11/site-packages (1.4.0)\n",
      "Requirement already satisfied: tiktoken in /opt/homebrew/Caskroom/miniconda/base/envs/genAI/lib/python3.11/site-packages (0.5.2)\n",
      "Requirement already satisfied: neo4j in /opt/homebrew/Caskroom/miniconda/base/envs/genAI/lib/python3.11/site-packages (5.16.0)\n",
      "Requirement already satisfied: python-dotenv in /opt/homebrew/Caskroom/miniconda/base/envs/genAI/lib/python3.11/site-packages (1.0.0)\n",
      "Requirement already satisfied: anyio<5,>=3.5.0 in /opt/homebrew/Caskroom/miniconda/base/envs/genAI/lib/python3.11/site-packages (from openai) (4.2.0)\n",
      "Requirement already satisfied: distro<2,>=1.7.0 in /opt/homebrew/Caskroom/miniconda/base/envs/genAI/lib/python3.11/site-packages (from openai) (1.9.0)\n",
      "Requirement already satisfied: httpx<1,>=0.23.0 in /opt/homebrew/Caskroom/miniconda/base/envs/genAI/lib/python3.11/site-packages (from openai) (0.26.0)\n",
      "Requirement already satisfied: pydantic<3,>=1.9.0 in /opt/homebrew/Caskroom/miniconda/base/envs/genAI/lib/python3.11/site-packages (from openai) (1.10.13)\n",
      "Requirement already satisfied: sniffio in /opt/homebrew/Caskroom/miniconda/base/envs/genAI/lib/python3.11/site-packages (from openai) (1.3.0)\n",
      "Requirement already satisfied: tqdm>4 in /opt/homebrew/Caskroom/miniconda/base/envs/genAI/lib/python3.11/site-packages (from openai) (4.66.1)\n",
      "Requirement already satisfied: typing-extensions<5,>=4.7 in /opt/homebrew/Caskroom/miniconda/base/envs/genAI/lib/python3.11/site-packages (from openai) (4.9.0)\n",
      "Requirement already satisfied: beautifulsoup4 in /opt/homebrew/Caskroom/miniconda/base/envs/genAI/lib/python3.11/site-packages (from wikipedia) (4.12.2)\n",
      "Requirement already satisfied: requests<3.0.0,>=2.0.0 in /opt/homebrew/Caskroom/miniconda/base/envs/genAI/lib/python3.11/site-packages (from wikipedia) (2.31.0)\n",
      "Requirement already satisfied: regex>=2022.1.18 in /opt/homebrew/Caskroom/miniconda/base/envs/genAI/lib/python3.11/site-packages (from tiktoken) (2023.12.25)\n",
      "Requirement already satisfied: pytz in /opt/homebrew/Caskroom/miniconda/base/envs/genAI/lib/python3.11/site-packages (from neo4j) (2023.3.post1)\n",
      "Requirement already satisfied: idna>=2.8 in /opt/homebrew/Caskroom/miniconda/base/envs/genAI/lib/python3.11/site-packages (from anyio<5,>=3.5.0->openai) (3.6)\n",
      "Requirement already satisfied: certifi in /opt/homebrew/Caskroom/miniconda/base/envs/genAI/lib/python3.11/site-packages (from httpx<1,>=0.23.0->openai) (2023.11.17)\n",
      "Requirement already satisfied: httpcore==1.* in /opt/homebrew/Caskroom/miniconda/base/envs/genAI/lib/python3.11/site-packages (from httpx<1,>=0.23.0->openai) (1.0.2)\n",
      "Requirement already satisfied: h11<0.15,>=0.13 in /opt/homebrew/Caskroom/miniconda/base/envs/genAI/lib/python3.11/site-packages (from httpcore==1.*->httpx<1,>=0.23.0->openai) (0.14.0)\n",
      "Requirement already satisfied: charset-normalizer<4,>=2 in /opt/homebrew/Caskroom/miniconda/base/envs/genAI/lib/python3.11/site-packages (from requests<3.0.0,>=2.0.0->wikipedia) (3.3.2)\n",
      "Requirement already satisfied: urllib3<3,>=1.21.1 in /opt/homebrew/Caskroom/miniconda/base/envs/genAI/lib/python3.11/site-packages (from requests<3.0.0,>=2.0.0->wikipedia) (1.26.18)\n",
      "Requirement already satisfied: soupsieve>1.2 in /opt/homebrew/Caskroom/miniconda/base/envs/genAI/lib/python3.11/site-packages (from beautifulsoup4->wikipedia) (2.5)\n",
      "Requirement already satisfied: sagemaker in /opt/homebrew/Caskroom/miniconda/base/envs/genAI/lib/python3.11/site-packages (2.203.0)\n",
      "Requirement already satisfied: attrs<24,>=23.1.0 in /opt/homebrew/Caskroom/miniconda/base/envs/genAI/lib/python3.11/site-packages (from sagemaker) (23.2.0)\n",
      "Requirement already satisfied: boto3<2.0,>=1.33.3 in /opt/homebrew/Caskroom/miniconda/base/envs/genAI/lib/python3.11/site-packages (from sagemaker) (1.34.12)\n",
      "Requirement already satisfied: cloudpickle==2.2.1 in /opt/homebrew/Caskroom/miniconda/base/envs/genAI/lib/python3.11/site-packages (from sagemaker) (2.2.1)\n",
      "Requirement already satisfied: google-pasta in /opt/homebrew/Caskroom/miniconda/base/envs/genAI/lib/python3.11/site-packages (from sagemaker) (0.2.0)\n",
      "Requirement already satisfied: numpy<2.0,>=1.9.0 in /opt/homebrew/Caskroom/miniconda/base/envs/genAI/lib/python3.11/site-packages (from sagemaker) (1.26.3)\n",
      "Requirement already satisfied: protobuf<5.0,>=3.12 in /opt/homebrew/Caskroom/miniconda/base/envs/genAI/lib/python3.11/site-packages (from sagemaker) (4.23.4)\n",
      "Requirement already satisfied: smdebug-rulesconfig==1.0.1 in /opt/homebrew/Caskroom/miniconda/base/envs/genAI/lib/python3.11/site-packages (from sagemaker) (1.0.1)\n",
      "Requirement already satisfied: importlib-metadata<7.0,>=1.4.0 in /opt/homebrew/Caskroom/miniconda/base/envs/genAI/lib/python3.11/site-packages (from sagemaker) (6.11.0)\n",
      "Requirement already satisfied: packaging>=20.0 in /opt/homebrew/Caskroom/miniconda/base/envs/genAI/lib/python3.11/site-packages (from sagemaker) (23.2)\n",
      "Requirement already satisfied: pandas in /opt/homebrew/Caskroom/miniconda/base/envs/genAI/lib/python3.11/site-packages (from sagemaker) (2.1.4)\n",
      "Requirement already satisfied: pathos in /opt/homebrew/Caskroom/miniconda/base/envs/genAI/lib/python3.11/site-packages (from sagemaker) (0.3.1)\n",
      "Requirement already satisfied: schema in /opt/homebrew/Caskroom/miniconda/base/envs/genAI/lib/python3.11/site-packages (from sagemaker) (0.7.5)\n",
      "Requirement already satisfied: PyYAML~=6.0 in /opt/homebrew/Caskroom/miniconda/base/envs/genAI/lib/python3.11/site-packages (from sagemaker) (6.0.1)\n",
      "Requirement already satisfied: jsonschema in /opt/homebrew/Caskroom/miniconda/base/envs/genAI/lib/python3.11/site-packages (from sagemaker) (4.20.0)\n",
      "Requirement already satisfied: platformdirs in /opt/homebrew/Caskroom/miniconda/base/envs/genAI/lib/python3.11/site-packages (from sagemaker) (4.1.0)\n",
      "Requirement already satisfied: tblib<3,>=1.7.0 in /opt/homebrew/Caskroom/miniconda/base/envs/genAI/lib/python3.11/site-packages (from sagemaker) (2.0.0)\n",
      "Requirement already satisfied: urllib3<1.27 in /opt/homebrew/Caskroom/miniconda/base/envs/genAI/lib/python3.11/site-packages (from sagemaker) (1.26.18)\n",
      "Requirement already satisfied: uvicorn==0.22.0 in /opt/homebrew/Caskroom/miniconda/base/envs/genAI/lib/python3.11/site-packages (from sagemaker) (0.22.0)\n",
      "Requirement already satisfied: fastapi==0.95.2 in /opt/homebrew/Caskroom/miniconda/base/envs/genAI/lib/python3.11/site-packages (from sagemaker) (0.95.2)\n",
      "Requirement already satisfied: requests in /opt/homebrew/Caskroom/miniconda/base/envs/genAI/lib/python3.11/site-packages (from sagemaker) (2.31.0)\n",
      "Requirement already satisfied: docker in /opt/homebrew/Caskroom/miniconda/base/envs/genAI/lib/python3.11/site-packages (from sagemaker) (7.0.0)\n",
      "Requirement already satisfied: tqdm in /opt/homebrew/Caskroom/miniconda/base/envs/genAI/lib/python3.11/site-packages (from sagemaker) (4.66.1)\n",
      "Requirement already satisfied: psutil in /opt/homebrew/Caskroom/miniconda/base/envs/genAI/lib/python3.11/site-packages (from sagemaker) (5.9.0)\n",
      "Requirement already satisfied: pydantic!=1.7,!=1.7.1,!=1.7.2,!=1.7.3,!=1.8,!=1.8.1,<2.0.0,>=1.6.2 in /opt/homebrew/Caskroom/miniconda/base/envs/genAI/lib/python3.11/site-packages (from fastapi==0.95.2->sagemaker) (1.10.13)\n",
      "Requirement already satisfied: starlette<0.28.0,>=0.27.0 in /opt/homebrew/Caskroom/miniconda/base/envs/genAI/lib/python3.11/site-packages (from fastapi==0.95.2->sagemaker) (0.27.0)\n",
      "Requirement already satisfied: click>=7.0 in /opt/homebrew/Caskroom/miniconda/base/envs/genAI/lib/python3.11/site-packages (from uvicorn==0.22.0->sagemaker) (8.1.7)\n",
      "Requirement already satisfied: h11>=0.8 in /opt/homebrew/Caskroom/miniconda/base/envs/genAI/lib/python3.11/site-packages (from uvicorn==0.22.0->sagemaker) (0.14.0)\n",
      "Requirement already satisfied: botocore<1.35.0,>=1.34.12 in /opt/homebrew/Caskroom/miniconda/base/envs/genAI/lib/python3.11/site-packages (from boto3<2.0,>=1.33.3->sagemaker) (1.34.12)\n",
      "Requirement already satisfied: jmespath<2.0.0,>=0.7.1 in /opt/homebrew/Caskroom/miniconda/base/envs/genAI/lib/python3.11/site-packages (from boto3<2.0,>=1.33.3->sagemaker) (1.0.1)\n",
      "Requirement already satisfied: s3transfer<0.11.0,>=0.10.0 in /opt/homebrew/Caskroom/miniconda/base/envs/genAI/lib/python3.11/site-packages (from boto3<2.0,>=1.33.3->sagemaker) (0.10.0)\n",
      "Requirement already satisfied: zipp>=0.5 in /opt/homebrew/Caskroom/miniconda/base/envs/genAI/lib/python3.11/site-packages (from importlib-metadata<7.0,>=1.4.0->sagemaker) (3.17.0)\n",
      "Requirement already satisfied: charset-normalizer<4,>=2 in /opt/homebrew/Caskroom/miniconda/base/envs/genAI/lib/python3.11/site-packages (from requests->sagemaker) (3.3.2)\n",
      "Requirement already satisfied: idna<4,>=2.5 in /opt/homebrew/Caskroom/miniconda/base/envs/genAI/lib/python3.11/site-packages (from requests->sagemaker) (3.6)\n",
      "Requirement already satisfied: certifi>=2017.4.17 in /opt/homebrew/Caskroom/miniconda/base/envs/genAI/lib/python3.11/site-packages (from requests->sagemaker) (2023.11.17)\n",
      "Requirement already satisfied: six in /opt/homebrew/Caskroom/miniconda/base/envs/genAI/lib/python3.11/site-packages (from google-pasta->sagemaker) (1.16.0)\n",
      "Requirement already satisfied: jsonschema-specifications>=2023.03.6 in /opt/homebrew/Caskroom/miniconda/base/envs/genAI/lib/python3.11/site-packages (from jsonschema->sagemaker) (2023.12.1)\n",
      "Requirement already satisfied: referencing>=0.28.4 in /opt/homebrew/Caskroom/miniconda/base/envs/genAI/lib/python3.11/site-packages (from jsonschema->sagemaker) (0.32.0)\n",
      "Requirement already satisfied: rpds-py>=0.7.1 in /opt/homebrew/Caskroom/miniconda/base/envs/genAI/lib/python3.11/site-packages (from jsonschema->sagemaker) (0.16.2)\n",
      "Requirement already satisfied: python-dateutil>=2.8.2 in /opt/homebrew/Caskroom/miniconda/base/envs/genAI/lib/python3.11/site-packages (from pandas->sagemaker) (2.8.2)\n",
      "Requirement already satisfied: pytz>=2020.1 in /opt/homebrew/Caskroom/miniconda/base/envs/genAI/lib/python3.11/site-packages (from pandas->sagemaker) (2023.3.post1)\n",
      "Requirement already satisfied: tzdata>=2022.1 in /opt/homebrew/Caskroom/miniconda/base/envs/genAI/lib/python3.11/site-packages (from pandas->sagemaker) (2023.4)\n",
      "Requirement already satisfied: ppft>=1.7.6.7 in /opt/homebrew/Caskroom/miniconda/base/envs/genAI/lib/python3.11/site-packages (from pathos->sagemaker) (1.7.6.7)\n",
      "Requirement already satisfied: dill>=0.3.7 in /opt/homebrew/Caskroom/miniconda/base/envs/genAI/lib/python3.11/site-packages (from pathos->sagemaker) (0.3.7)\n",
      "Requirement already satisfied: pox>=0.3.3 in /opt/homebrew/Caskroom/miniconda/base/envs/genAI/lib/python3.11/site-packages (from pathos->sagemaker) (0.3.3)\n",
      "Requirement already satisfied: multiprocess>=0.70.15 in /opt/homebrew/Caskroom/miniconda/base/envs/genAI/lib/python3.11/site-packages (from pathos->sagemaker) (0.70.15)\n",
      "Requirement already satisfied: contextlib2>=0.5.5 in /opt/homebrew/Caskroom/miniconda/base/envs/genAI/lib/python3.11/site-packages (from schema->sagemaker) (21.6.0)\n",
      "Requirement already satisfied: typing-extensions>=4.2.0 in /opt/homebrew/Caskroom/miniconda/base/envs/genAI/lib/python3.11/site-packages (from pydantic!=1.7,!=1.7.1,!=1.7.2,!=1.7.3,!=1.8,!=1.8.1,<2.0.0,>=1.6.2->fastapi==0.95.2->sagemaker) (4.9.0)\n",
      "Requirement already satisfied: anyio<5,>=3.4.0 in /opt/homebrew/Caskroom/miniconda/base/envs/genAI/lib/python3.11/site-packages (from starlette<0.28.0,>=0.27.0->fastapi==0.95.2->sagemaker) (4.2.0)\n",
      "Requirement already satisfied: sniffio>=1.1 in /opt/homebrew/Caskroom/miniconda/base/envs/genAI/lib/python3.11/site-packages (from anyio<5,>=3.4.0->starlette<0.28.0,>=0.27.0->fastapi==0.95.2->sagemaker) (1.3.0)\n"
     ]
    }
   ],
   "source": [
    "!pip install langchain pydantic lxml\n",
    "!pip install openai wikipedia tiktoken neo4j python-dotenv\n",
    "!pip install -U sagemaker"
   ]
  },
  {
   "cell_type": "code",
   "execution_count": 12,
   "id": "e8bd9008",
   "metadata": {},
   "outputs": [
    {
     "name": "stdout",
     "output_type": "stream",
     "text": [
      "Requirement already satisfied: unstructured[all-docs] in /opt/homebrew/Caskroom/miniconda/base/envs/genAI/lib/python3.11/site-packages (0.11.8)\n",
      "Requirement already satisfied: chardet in /opt/homebrew/Caskroom/miniconda/base/envs/genAI/lib/python3.11/site-packages (from unstructured[all-docs]) (5.2.0)\n",
      "Requirement already satisfied: filetype in /opt/homebrew/Caskroom/miniconda/base/envs/genAI/lib/python3.11/site-packages (from unstructured[all-docs]) (1.2.0)\n",
      "Requirement already satisfied: python-magic in /opt/homebrew/Caskroom/miniconda/base/envs/genAI/lib/python3.11/site-packages (from unstructured[all-docs]) (0.4.27)\n",
      "Requirement already satisfied: lxml in /opt/homebrew/Caskroom/miniconda/base/envs/genAI/lib/python3.11/site-packages (from unstructured[all-docs]) (5.0.0)\n",
      "Requirement already satisfied: nltk in /opt/homebrew/Caskroom/miniconda/base/envs/genAI/lib/python3.11/site-packages (from unstructured[all-docs]) (3.8.1)\n",
      "Requirement already satisfied: tabulate in /opt/homebrew/Caskroom/miniconda/base/envs/genAI/lib/python3.11/site-packages (from unstructured[all-docs]) (0.9.0)\n",
      "Requirement already satisfied: requests in /opt/homebrew/Caskroom/miniconda/base/envs/genAI/lib/python3.11/site-packages (from unstructured[all-docs]) (2.31.0)\n",
      "Requirement already satisfied: beautifulsoup4 in /opt/homebrew/Caskroom/miniconda/base/envs/genAI/lib/python3.11/site-packages (from unstructured[all-docs]) (4.12.2)\n",
      "Requirement already satisfied: emoji in /opt/homebrew/Caskroom/miniconda/base/envs/genAI/lib/python3.11/site-packages (from unstructured[all-docs]) (2.9.0)\n",
      "Requirement already satisfied: dataclasses-json in /opt/homebrew/Caskroom/miniconda/base/envs/genAI/lib/python3.11/site-packages (from unstructured[all-docs]) (0.6.3)\n",
      "Requirement already satisfied: python-iso639 in /opt/homebrew/Caskroom/miniconda/base/envs/genAI/lib/python3.11/site-packages (from unstructured[all-docs]) (2024.1.2)\n",
      "Requirement already satisfied: langdetect in /opt/homebrew/Caskroom/miniconda/base/envs/genAI/lib/python3.11/site-packages (from unstructured[all-docs]) (1.0.9)\n",
      "Requirement already satisfied: numpy in /opt/homebrew/Caskroom/miniconda/base/envs/genAI/lib/python3.11/site-packages (from unstructured[all-docs]) (1.26.3)\n",
      "Requirement already satisfied: rapidfuzz in /opt/homebrew/Caskroom/miniconda/base/envs/genAI/lib/python3.11/site-packages (from unstructured[all-docs]) (3.6.1)\n",
      "Requirement already satisfied: backoff in /opt/homebrew/Caskroom/miniconda/base/envs/genAI/lib/python3.11/site-packages (from unstructured[all-docs]) (2.2.1)\n",
      "Requirement already satisfied: typing-extensions in /opt/homebrew/Caskroom/miniconda/base/envs/genAI/lib/python3.11/site-packages (from unstructured[all-docs]) (4.9.0)\n",
      "Requirement already satisfied: unstructured-client in /opt/homebrew/Caskroom/miniconda/base/envs/genAI/lib/python3.11/site-packages (from unstructured[all-docs]) (0.15.1)\n",
      "Requirement already satisfied: wrapt in /opt/homebrew/Caskroom/miniconda/base/envs/genAI/lib/python3.11/site-packages (from unstructured[all-docs]) (1.16.0)\n",
      "Requirement already satisfied: pypandoc in /opt/homebrew/Caskroom/miniconda/base/envs/genAI/lib/python3.11/site-packages (from unstructured[all-docs]) (1.12)\n",
      "Requirement already satisfied: pandas in /opt/homebrew/Caskroom/miniconda/base/envs/genAI/lib/python3.11/site-packages (from unstructured[all-docs]) (2.1.4)\n",
      "Requirement already satisfied: python-docx>=1.1.0 in /opt/homebrew/Caskroom/miniconda/base/envs/genAI/lib/python3.11/site-packages (from unstructured[all-docs]) (1.1.0)\n",
      "Requirement already satisfied: networkx in /opt/homebrew/Caskroom/miniconda/base/envs/genAI/lib/python3.11/site-packages (from unstructured[all-docs]) (3.2.1)\n",
      "Requirement already satisfied: pypdf in /opt/homebrew/Caskroom/miniconda/base/envs/genAI/lib/python3.11/site-packages (from unstructured[all-docs]) (3.17.4)\n",
      "Requirement already satisfied: unstructured.pytesseract>=0.3.12 in /opt/homebrew/Caskroom/miniconda/base/envs/genAI/lib/python3.11/site-packages (from unstructured[all-docs]) (0.3.12)\n",
      "Requirement already satisfied: markdown in /opt/homebrew/Caskroom/miniconda/base/envs/genAI/lib/python3.11/site-packages (from unstructured[all-docs]) (3.5.1)\n",
      "Requirement already satisfied: python-pptx<=0.6.23 in /opt/homebrew/Caskroom/miniconda/base/envs/genAI/lib/python3.11/site-packages (from unstructured[all-docs]) (0.6.23)\n",
      "Requirement already satisfied: pdf2image in /opt/homebrew/Caskroom/miniconda/base/envs/genAI/lib/python3.11/site-packages (from unstructured[all-docs]) (1.16.3)\n",
      "Requirement already satisfied: onnx in /opt/homebrew/Caskroom/miniconda/base/envs/genAI/lib/python3.11/site-packages (from unstructured[all-docs]) (1.15.0)\n",
      "Requirement already satisfied: msg-parser in /opt/homebrew/Caskroom/miniconda/base/envs/genAI/lib/python3.11/site-packages (from unstructured[all-docs]) (1.2.0)\n",
      "Requirement already satisfied: pikepdf in /opt/homebrew/Caskroom/miniconda/base/envs/genAI/lib/python3.11/site-packages (from unstructured[all-docs]) (8.11.2)\n",
      "Requirement already satisfied: openpyxl in /opt/homebrew/Caskroom/miniconda/base/envs/genAI/lib/python3.11/site-packages (from unstructured[all-docs]) (3.1.2)\n",
      "Requirement already satisfied: pdfminer.six in /opt/homebrew/Caskroom/miniconda/base/envs/genAI/lib/python3.11/site-packages (from unstructured[all-docs]) (20221105)\n",
      "Requirement already satisfied: xlrd in /opt/homebrew/Caskroom/miniconda/base/envs/genAI/lib/python3.11/site-packages (from unstructured[all-docs]) (2.0.1)\n",
      "Requirement already satisfied: unstructured-inference==0.7.18 in /opt/homebrew/Caskroom/miniconda/base/envs/genAI/lib/python3.11/site-packages (from unstructured[all-docs]) (0.7.18)\n",
      "Requirement already satisfied: layoutparser[layoutmodels,tesseract] in /opt/homebrew/Caskroom/miniconda/base/envs/genAI/lib/python3.11/site-packages (from unstructured-inference==0.7.18->unstructured[all-docs]) (0.3.4)\n",
      "Requirement already satisfied: python-multipart in /opt/homebrew/Caskroom/miniconda/base/envs/genAI/lib/python3.11/site-packages (from unstructured-inference==0.7.18->unstructured[all-docs]) (0.0.6)\n",
      "Requirement already satisfied: huggingface-hub in /opt/homebrew/Caskroom/miniconda/base/envs/genAI/lib/python3.11/site-packages (from unstructured-inference==0.7.18->unstructured[all-docs]) (0.20.1)\n",
      "Requirement already satisfied: opencv-python!=4.7.0.68 in /opt/homebrew/Caskroom/miniconda/base/envs/genAI/lib/python3.11/site-packages (from unstructured-inference==0.7.18->unstructured[all-docs]) (4.9.0.80)\n",
      "Requirement already satisfied: onnxruntime<1.16 in /opt/homebrew/Caskroom/miniconda/base/envs/genAI/lib/python3.11/site-packages (from unstructured-inference==0.7.18->unstructured[all-docs]) (1.15.1)\n",
      "Requirement already satisfied: transformers>=4.25.1 in /opt/homebrew/Caskroom/miniconda/base/envs/genAI/lib/python3.11/site-packages (from unstructured-inference==0.7.18->unstructured[all-docs]) (4.36.2)\n",
      "Requirement already satisfied: Pillow>=3.3.2 in /opt/homebrew/Caskroom/miniconda/base/envs/genAI/lib/python3.11/site-packages (from python-pptx<=0.6.23->unstructured[all-docs]) (10.2.0)\n",
      "Requirement already satisfied: XlsxWriter>=0.5.7 in /opt/homebrew/Caskroom/miniconda/base/envs/genAI/lib/python3.11/site-packages (from python-pptx<=0.6.23->unstructured[all-docs]) (3.1.9)\n",
      "Requirement already satisfied: packaging>=21.3 in /opt/homebrew/Caskroom/miniconda/base/envs/genAI/lib/python3.11/site-packages (from unstructured.pytesseract>=0.3.12->unstructured[all-docs]) (23.2)\n",
      "Requirement already satisfied: soupsieve>1.2 in /opt/homebrew/Caskroom/miniconda/base/envs/genAI/lib/python3.11/site-packages (from beautifulsoup4->unstructured[all-docs]) (2.5)\n",
      "Requirement already satisfied: marshmallow<4.0.0,>=3.18.0 in /opt/homebrew/Caskroom/miniconda/base/envs/genAI/lib/python3.11/site-packages (from dataclasses-json->unstructured[all-docs]) (3.20.1)\n",
      "Requirement already satisfied: typing-inspect<1,>=0.4.0 in /opt/homebrew/Caskroom/miniconda/base/envs/genAI/lib/python3.11/site-packages (from dataclasses-json->unstructured[all-docs]) (0.9.0)\n",
      "Requirement already satisfied: six in /opt/homebrew/Caskroom/miniconda/base/envs/genAI/lib/python3.11/site-packages (from langdetect->unstructured[all-docs]) (1.16.0)\n",
      "Requirement already satisfied: olefile>=0.46 in /opt/homebrew/Caskroom/miniconda/base/envs/genAI/lib/python3.11/site-packages (from msg-parser->unstructured[all-docs]) (0.47)\n",
      "Requirement already satisfied: click in /opt/homebrew/Caskroom/miniconda/base/envs/genAI/lib/python3.11/site-packages (from nltk->unstructured[all-docs]) (8.1.7)\n",
      "Requirement already satisfied: joblib in /opt/homebrew/Caskroom/miniconda/base/envs/genAI/lib/python3.11/site-packages (from nltk->unstructured[all-docs]) (1.3.2)\n",
      "Requirement already satisfied: regex>=2021.8.3 in /opt/homebrew/Caskroom/miniconda/base/envs/genAI/lib/python3.11/site-packages (from nltk->unstructured[all-docs]) (2023.12.25)\n",
      "Requirement already satisfied: tqdm in /opt/homebrew/Caskroom/miniconda/base/envs/genAI/lib/python3.11/site-packages (from nltk->unstructured[all-docs]) (4.66.1)\n",
      "Requirement already satisfied: protobuf>=3.20.2 in /opt/homebrew/Caskroom/miniconda/base/envs/genAI/lib/python3.11/site-packages (from onnx->unstructured[all-docs]) (4.23.4)\n",
      "Requirement already satisfied: et-xmlfile in /opt/homebrew/Caskroom/miniconda/base/envs/genAI/lib/python3.11/site-packages (from openpyxl->unstructured[all-docs]) (1.1.0)\n",
      "Requirement already satisfied: python-dateutil>=2.8.2 in /opt/homebrew/Caskroom/miniconda/base/envs/genAI/lib/python3.11/site-packages (from pandas->unstructured[all-docs]) (2.8.2)\n",
      "Requirement already satisfied: pytz>=2020.1 in /opt/homebrew/Caskroom/miniconda/base/envs/genAI/lib/python3.11/site-packages (from pandas->unstructured[all-docs]) (2023.3.post1)\n",
      "Requirement already satisfied: tzdata>=2022.1 in /opt/homebrew/Caskroom/miniconda/base/envs/genAI/lib/python3.11/site-packages (from pandas->unstructured[all-docs]) (2023.4)\n",
      "Requirement already satisfied: charset-normalizer>=2.0.0 in /opt/homebrew/Caskroom/miniconda/base/envs/genAI/lib/python3.11/site-packages (from pdfminer.six->unstructured[all-docs]) (3.3.2)\n",
      "Requirement already satisfied: cryptography>=36.0.0 in /opt/homebrew/Caskroom/miniconda/base/envs/genAI/lib/python3.11/site-packages (from pdfminer.six->unstructured[all-docs]) (41.0.7)\n",
      "Requirement already satisfied: Deprecated in /opt/homebrew/Caskroom/miniconda/base/envs/genAI/lib/python3.11/site-packages (from pikepdf->unstructured[all-docs]) (1.2.14)\n",
      "Requirement already satisfied: idna<4,>=2.5 in /opt/homebrew/Caskroom/miniconda/base/envs/genAI/lib/python3.11/site-packages (from requests->unstructured[all-docs]) (3.6)\n",
      "Requirement already satisfied: urllib3<3,>=1.21.1 in /opt/homebrew/Caskroom/miniconda/base/envs/genAI/lib/python3.11/site-packages (from requests->unstructured[all-docs]) (1.26.18)\n",
      "Requirement already satisfied: certifi>=2017.4.17 in /opt/homebrew/Caskroom/miniconda/base/envs/genAI/lib/python3.11/site-packages (from requests->unstructured[all-docs]) (2023.11.17)\n",
      "Requirement already satisfied: jsonpath-python>=1.0.6 in /opt/homebrew/Caskroom/miniconda/base/envs/genAI/lib/python3.11/site-packages (from unstructured-client->unstructured[all-docs]) (1.0.6)\n",
      "Requirement already satisfied: mypy-extensions>=1.0.0 in /opt/homebrew/Caskroom/miniconda/base/envs/genAI/lib/python3.11/site-packages (from unstructured-client->unstructured[all-docs]) (1.0.0)\n",
      "Requirement already satisfied: cffi>=1.12 in /opt/homebrew/Caskroom/miniconda/base/envs/genAI/lib/python3.11/site-packages (from cryptography>=36.0.0->pdfminer.six->unstructured[all-docs]) (1.16.0)\n",
      "Requirement already satisfied: coloredlogs in /opt/homebrew/Caskroom/miniconda/base/envs/genAI/lib/python3.11/site-packages (from onnxruntime<1.16->unstructured-inference==0.7.18->unstructured[all-docs]) (15.0.1)\n",
      "Requirement already satisfied: flatbuffers in /opt/homebrew/Caskroom/miniconda/base/envs/genAI/lib/python3.11/site-packages (from onnxruntime<1.16->unstructured-inference==0.7.18->unstructured[all-docs]) (23.5.26)\n",
      "Requirement already satisfied: sympy in /opt/homebrew/Caskroom/miniconda/base/envs/genAI/lib/python3.11/site-packages (from onnxruntime<1.16->unstructured-inference==0.7.18->unstructured[all-docs]) (1.12)\n",
      "Requirement already satisfied: filelock in /opt/homebrew/Caskroom/miniconda/base/envs/genAI/lib/python3.11/site-packages (from transformers>=4.25.1->unstructured-inference==0.7.18->unstructured[all-docs]) (3.13.1)\n",
      "Requirement already satisfied: pyyaml>=5.1 in /opt/homebrew/Caskroom/miniconda/base/envs/genAI/lib/python3.11/site-packages (from transformers>=4.25.1->unstructured-inference==0.7.18->unstructured[all-docs]) (6.0.1)\n",
      "Requirement already satisfied: tokenizers<0.19,>=0.14 in /opt/homebrew/Caskroom/miniconda/base/envs/genAI/lib/python3.11/site-packages (from transformers>=4.25.1->unstructured-inference==0.7.18->unstructured[all-docs]) (0.15.0)\n",
      "Requirement already satisfied: safetensors>=0.3.1 in /opt/homebrew/Caskroom/miniconda/base/envs/genAI/lib/python3.11/site-packages (from transformers>=4.25.1->unstructured-inference==0.7.18->unstructured[all-docs]) (0.4.1)\n",
      "Requirement already satisfied: fsspec>=2023.5.0 in /opt/homebrew/Caskroom/miniconda/base/envs/genAI/lib/python3.11/site-packages (from huggingface-hub->unstructured-inference==0.7.18->unstructured[all-docs]) (2023.12.2)\n",
      "Requirement already satisfied: scipy in /opt/homebrew/Caskroom/miniconda/base/envs/genAI/lib/python3.11/site-packages (from layoutparser[layoutmodels,tesseract]->unstructured-inference==0.7.18->unstructured[all-docs]) (1.11.4)\n",
      "Requirement already satisfied: iopath in /opt/homebrew/Caskroom/miniconda/base/envs/genAI/lib/python3.11/site-packages (from layoutparser[layoutmodels,tesseract]->unstructured-inference==0.7.18->unstructured[all-docs]) (0.1.9)\n",
      "Requirement already satisfied: pdfplumber in /opt/homebrew/Caskroom/miniconda/base/envs/genAI/lib/python3.11/site-packages (from layoutparser[layoutmodels,tesseract]->unstructured-inference==0.7.18->unstructured[all-docs]) (0.10.3)\n",
      "Requirement already satisfied: torch in /opt/homebrew/Caskroom/miniconda/base/envs/genAI/lib/python3.11/site-packages (from layoutparser[layoutmodels,tesseract]->unstructured-inference==0.7.18->unstructured[all-docs]) (2.1.2)\n",
      "Requirement already satisfied: torchvision in /opt/homebrew/Caskroom/miniconda/base/envs/genAI/lib/python3.11/site-packages (from layoutparser[layoutmodels,tesseract]->unstructured-inference==0.7.18->unstructured[all-docs]) (0.16.2)\n",
      "Requirement already satisfied: effdet in /opt/homebrew/Caskroom/miniconda/base/envs/genAI/lib/python3.11/site-packages (from layoutparser[layoutmodels,tesseract]->unstructured-inference==0.7.18->unstructured[all-docs]) (0.4.1)\n",
      "Requirement already satisfied: pytesseract in /opt/homebrew/Caskroom/miniconda/base/envs/genAI/lib/python3.11/site-packages (from layoutparser[layoutmodels,tesseract]->unstructured-inference==0.7.18->unstructured[all-docs]) (0.3.10)\n",
      "Requirement already satisfied: pycparser in /opt/homebrew/Caskroom/miniconda/base/envs/genAI/lib/python3.11/site-packages (from cffi>=1.12->cryptography>=36.0.0->pdfminer.six->unstructured[all-docs]) (2.21)\n",
      "Requirement already satisfied: humanfriendly>=9.1 in /opt/homebrew/Caskroom/miniconda/base/envs/genAI/lib/python3.11/site-packages (from coloredlogs->onnxruntime<1.16->unstructured-inference==0.7.18->unstructured[all-docs]) (10.0)\n",
      "Requirement already satisfied: timm>=0.9.2 in /opt/homebrew/Caskroom/miniconda/base/envs/genAI/lib/python3.11/site-packages (from effdet->layoutparser[layoutmodels,tesseract]->unstructured-inference==0.7.18->unstructured[all-docs]) (0.9.12)\n",
      "Requirement already satisfied: pycocotools>=2.0.2 in /opt/homebrew/Caskroom/miniconda/base/envs/genAI/lib/python3.11/site-packages (from effdet->layoutparser[layoutmodels,tesseract]->unstructured-inference==0.7.18->unstructured[all-docs]) (2.0.7)\n",
      "Requirement already satisfied: omegaconf>=2.0 in /opt/homebrew/Caskroom/miniconda/base/envs/genAI/lib/python3.11/site-packages (from effdet->layoutparser[layoutmodels,tesseract]->unstructured-inference==0.7.18->unstructured[all-docs]) (2.3.0)\n",
      "Requirement already satisfied: jinja2 in /opt/homebrew/Caskroom/miniconda/base/envs/genAI/lib/python3.11/site-packages (from torch->layoutparser[layoutmodels,tesseract]->unstructured-inference==0.7.18->unstructured[all-docs]) (3.1.2)\n",
      "Requirement already satisfied: portalocker in /opt/homebrew/Caskroom/miniconda/base/envs/genAI/lib/python3.11/site-packages (from iopath->layoutparser[layoutmodels,tesseract]->unstructured-inference==0.7.18->unstructured[all-docs]) (2.8.2)\n",
      "Requirement already satisfied: pypdfium2>=4.18.0 in /opt/homebrew/Caskroom/miniconda/base/envs/genAI/lib/python3.11/site-packages (from pdfplumber->layoutparser[layoutmodels,tesseract]->unstructured-inference==0.7.18->unstructured[all-docs]) (4.25.0)\n",
      "Requirement already satisfied: mpmath>=0.19 in /opt/homebrew/Caskroom/miniconda/base/envs/genAI/lib/python3.11/site-packages (from sympy->onnxruntime<1.16->unstructured-inference==0.7.18->unstructured[all-docs]) (1.3.0)\n",
      "Requirement already satisfied: antlr4-python3-runtime==4.9.* in /opt/homebrew/Caskroom/miniconda/base/envs/genAI/lib/python3.11/site-packages (from omegaconf>=2.0->effdet->layoutparser[layoutmodels,tesseract]->unstructured-inference==0.7.18->unstructured[all-docs]) (4.9.3)\n",
      "Requirement already satisfied: matplotlib>=2.1.0 in /opt/homebrew/Caskroom/miniconda/base/envs/genAI/lib/python3.11/site-packages (from pycocotools>=2.0.2->effdet->layoutparser[layoutmodels,tesseract]->unstructured-inference==0.7.18->unstructured[all-docs]) (3.8.2)\n",
      "Requirement already satisfied: MarkupSafe>=2.0 in /opt/homebrew/Caskroom/miniconda/base/envs/genAI/lib/python3.11/site-packages (from jinja2->torch->layoutparser[layoutmodels,tesseract]->unstructured-inference==0.7.18->unstructured[all-docs]) (2.1.3)\n",
      "Requirement already satisfied: contourpy>=1.0.1 in /opt/homebrew/Caskroom/miniconda/base/envs/genAI/lib/python3.11/site-packages (from matplotlib>=2.1.0->pycocotools>=2.0.2->effdet->layoutparser[layoutmodels,tesseract]->unstructured-inference==0.7.18->unstructured[all-docs]) (1.2.0)\n",
      "Requirement already satisfied: cycler>=0.10 in /opt/homebrew/Caskroom/miniconda/base/envs/genAI/lib/python3.11/site-packages (from matplotlib>=2.1.0->pycocotools>=2.0.2->effdet->layoutparser[layoutmodels,tesseract]->unstructured-inference==0.7.18->unstructured[all-docs]) (0.12.1)\n",
      "Requirement already satisfied: fonttools>=4.22.0 in /opt/homebrew/Caskroom/miniconda/base/envs/genAI/lib/python3.11/site-packages (from matplotlib>=2.1.0->pycocotools>=2.0.2->effdet->layoutparser[layoutmodels,tesseract]->unstructured-inference==0.7.18->unstructured[all-docs]) (4.47.0)\n",
      "Requirement already satisfied: kiwisolver>=1.3.1 in /opt/homebrew/Caskroom/miniconda/base/envs/genAI/lib/python3.11/site-packages (from matplotlib>=2.1.0->pycocotools>=2.0.2->effdet->layoutparser[layoutmodels,tesseract]->unstructured-inference==0.7.18->unstructured[all-docs]) (1.4.5)\n",
      "Requirement already satisfied: pyparsing>=2.3.1 in /opt/homebrew/Caskroom/miniconda/base/envs/genAI/lib/python3.11/site-packages (from matplotlib>=2.1.0->pycocotools>=2.0.2->effdet->layoutparser[layoutmodels,tesseract]->unstructured-inference==0.7.18->unstructured[all-docs]) (3.1.1)\n"
     ]
    }
   ],
   "source": [
    "!pip install \"unstructured[all-docs]\""
   ]
  },
  {
   "cell_type": "code",
   "execution_count": 7,
   "id": "7b2d4bc7",
   "metadata": {},
   "outputs": [
    {
     "name": "stdout",
     "output_type": "stream",
     "text": [
      "Requirement already satisfied: transformers in /opt/homebrew/Caskroom/miniconda/base/envs/genAI/lib/python3.11/site-packages (4.36.2)\n",
      "Requirement already satisfied: filelock in /opt/homebrew/Caskroom/miniconda/base/envs/genAI/lib/python3.11/site-packages (from transformers) (3.13.1)\n",
      "Requirement already satisfied: huggingface-hub<1.0,>=0.19.3 in /opt/homebrew/Caskroom/miniconda/base/envs/genAI/lib/python3.11/site-packages (from transformers) (0.20.1)\n",
      "Requirement already satisfied: numpy>=1.17 in /opt/homebrew/Caskroom/miniconda/base/envs/genAI/lib/python3.11/site-packages (from transformers) (1.26.3)\n",
      "Requirement already satisfied: packaging>=20.0 in /opt/homebrew/Caskroom/miniconda/base/envs/genAI/lib/python3.11/site-packages (from transformers) (23.2)\n",
      "Requirement already satisfied: pyyaml>=5.1 in /opt/homebrew/Caskroom/miniconda/base/envs/genAI/lib/python3.11/site-packages (from transformers) (6.0.1)\n",
      "Requirement already satisfied: regex!=2019.12.17 in /opt/homebrew/Caskroom/miniconda/base/envs/genAI/lib/python3.11/site-packages (from transformers) (2023.12.25)\n",
      "Requirement already satisfied: requests in /opt/homebrew/Caskroom/miniconda/base/envs/genAI/lib/python3.11/site-packages (from transformers) (2.31.0)\n",
      "Requirement already satisfied: tokenizers<0.19,>=0.14 in /opt/homebrew/Caskroom/miniconda/base/envs/genAI/lib/python3.11/site-packages (from transformers) (0.15.0)\n",
      "Requirement already satisfied: safetensors>=0.3.1 in /opt/homebrew/Caskroom/miniconda/base/envs/genAI/lib/python3.11/site-packages (from transformers) (0.4.1)\n",
      "Requirement already satisfied: tqdm>=4.27 in /opt/homebrew/Caskroom/miniconda/base/envs/genAI/lib/python3.11/site-packages (from transformers) (4.66.1)\n",
      "Requirement already satisfied: fsspec>=2023.5.0 in /opt/homebrew/Caskroom/miniconda/base/envs/genAI/lib/python3.11/site-packages (from huggingface-hub<1.0,>=0.19.3->transformers) (2023.12.2)\n",
      "Requirement already satisfied: typing-extensions>=3.7.4.3 in /opt/homebrew/Caskroom/miniconda/base/envs/genAI/lib/python3.11/site-packages (from huggingface-hub<1.0,>=0.19.3->transformers) (4.9.0)\n",
      "Requirement already satisfied: charset-normalizer<4,>=2 in /opt/homebrew/Caskroom/miniconda/base/envs/genAI/lib/python3.11/site-packages (from requests->transformers) (3.3.2)\n",
      "Requirement already satisfied: idna<4,>=2.5 in /opt/homebrew/Caskroom/miniconda/base/envs/genAI/lib/python3.11/site-packages (from requests->transformers) (3.6)\n",
      "Requirement already satisfied: urllib3<3,>=1.21.1 in /opt/homebrew/Caskroom/miniconda/base/envs/genAI/lib/python3.11/site-packages (from requests->transformers) (1.26.18)\n",
      "Requirement already satisfied: certifi>=2017.4.17 in /opt/homebrew/Caskroom/miniconda/base/envs/genAI/lib/python3.11/site-packages (from requests->transformers) (2023.11.17)\n",
      "Requirement already satisfied: layoutparser in /opt/homebrew/Caskroom/miniconda/base/envs/genAI/lib/python3.11/site-packages (0.3.4)\n",
      "Requirement already satisfied: torchvision in /opt/homebrew/Caskroom/miniconda/base/envs/genAI/lib/python3.11/site-packages (0.16.2)\n",
      "Requirement already satisfied: numpy in /opt/homebrew/Caskroom/miniconda/base/envs/genAI/lib/python3.11/site-packages (from layoutparser) (1.26.3)\n",
      "Requirement already satisfied: opencv-python in /opt/homebrew/Caskroom/miniconda/base/envs/genAI/lib/python3.11/site-packages (from layoutparser) (4.9.0.80)\n",
      "Requirement already satisfied: scipy in /opt/homebrew/Caskroom/miniconda/base/envs/genAI/lib/python3.11/site-packages (from layoutparser) (1.11.4)\n",
      "Requirement already satisfied: pandas in /opt/homebrew/Caskroom/miniconda/base/envs/genAI/lib/python3.11/site-packages (from layoutparser) (2.1.4)\n",
      "Requirement already satisfied: pillow in /opt/homebrew/Caskroom/miniconda/base/envs/genAI/lib/python3.11/site-packages (from layoutparser) (10.2.0)\n",
      "Requirement already satisfied: pyyaml>=5.1 in /opt/homebrew/Caskroom/miniconda/base/envs/genAI/lib/python3.11/site-packages (from layoutparser) (6.0.1)\n",
      "Requirement already satisfied: iopath in /opt/homebrew/Caskroom/miniconda/base/envs/genAI/lib/python3.11/site-packages (from layoutparser) (0.1.9)\n",
      "Requirement already satisfied: pdfplumber in /opt/homebrew/Caskroom/miniconda/base/envs/genAI/lib/python3.11/site-packages (from layoutparser) (0.10.3)\n",
      "Requirement already satisfied: pdf2image in /opt/homebrew/Caskroom/miniconda/base/envs/genAI/lib/python3.11/site-packages (from layoutparser) (1.16.3)\n",
      "Requirement already satisfied: requests in /opt/homebrew/Caskroom/miniconda/base/envs/genAI/lib/python3.11/site-packages (from torchvision) (2.31.0)\n",
      "Requirement already satisfied: torch==2.1.2 in /opt/homebrew/Caskroom/miniconda/base/envs/genAI/lib/python3.11/site-packages (from torchvision) (2.1.2)\n",
      "Requirement already satisfied: filelock in /opt/homebrew/Caskroom/miniconda/base/envs/genAI/lib/python3.11/site-packages (from torch==2.1.2->torchvision) (3.13.1)\n",
      "Requirement already satisfied: typing-extensions in /opt/homebrew/Caskroom/miniconda/base/envs/genAI/lib/python3.11/site-packages (from torch==2.1.2->torchvision) (4.9.0)\n",
      "Requirement already satisfied: sympy in /opt/homebrew/Caskroom/miniconda/base/envs/genAI/lib/python3.11/site-packages (from torch==2.1.2->torchvision) (1.12)\n",
      "Requirement already satisfied: networkx in /opt/homebrew/Caskroom/miniconda/base/envs/genAI/lib/python3.11/site-packages (from torch==2.1.2->torchvision) (3.2.1)\n",
      "Requirement already satisfied: jinja2 in /opt/homebrew/Caskroom/miniconda/base/envs/genAI/lib/python3.11/site-packages (from torch==2.1.2->torchvision) (3.1.2)\n",
      "Requirement already satisfied: fsspec in /opt/homebrew/Caskroom/miniconda/base/envs/genAI/lib/python3.11/site-packages (from torch==2.1.2->torchvision) (2023.12.2)\n",
      "Requirement already satisfied: tqdm in /opt/homebrew/Caskroom/miniconda/base/envs/genAI/lib/python3.11/site-packages (from iopath->layoutparser) (4.66.1)\n",
      "Requirement already satisfied: portalocker in /opt/homebrew/Caskroom/miniconda/base/envs/genAI/lib/python3.11/site-packages (from iopath->layoutparser) (2.8.2)\n",
      "Requirement already satisfied: python-dateutil>=2.8.2 in /opt/homebrew/Caskroom/miniconda/base/envs/genAI/lib/python3.11/site-packages (from pandas->layoutparser) (2.8.2)\n",
      "Requirement already satisfied: pytz>=2020.1 in /opt/homebrew/Caskroom/miniconda/base/envs/genAI/lib/python3.11/site-packages (from pandas->layoutparser) (2023.3.post1)\n",
      "Requirement already satisfied: tzdata>=2022.1 in /opt/homebrew/Caskroom/miniconda/base/envs/genAI/lib/python3.11/site-packages (from pandas->layoutparser) (2023.4)\n",
      "Requirement already satisfied: pdfminer.six==20221105 in /opt/homebrew/Caskroom/miniconda/base/envs/genAI/lib/python3.11/site-packages (from pdfplumber->layoutparser) (20221105)\n",
      "Requirement already satisfied: pypdfium2>=4.18.0 in /opt/homebrew/Caskroom/miniconda/base/envs/genAI/lib/python3.11/site-packages (from pdfplumber->layoutparser) (4.25.0)\n",
      "Requirement already satisfied: charset-normalizer>=2.0.0 in /opt/homebrew/Caskroom/miniconda/base/envs/genAI/lib/python3.11/site-packages (from pdfminer.six==20221105->pdfplumber->layoutparser) (3.3.2)\n",
      "Requirement already satisfied: cryptography>=36.0.0 in /opt/homebrew/Caskroom/miniconda/base/envs/genAI/lib/python3.11/site-packages (from pdfminer.six==20221105->pdfplumber->layoutparser) (41.0.7)\n",
      "Requirement already satisfied: idna<4,>=2.5 in /opt/homebrew/Caskroom/miniconda/base/envs/genAI/lib/python3.11/site-packages (from requests->torchvision) (3.6)\n",
      "Requirement already satisfied: urllib3<3,>=1.21.1 in /opt/homebrew/Caskroom/miniconda/base/envs/genAI/lib/python3.11/site-packages (from requests->torchvision) (1.26.18)\n",
      "Requirement already satisfied: certifi>=2017.4.17 in /opt/homebrew/Caskroom/miniconda/base/envs/genAI/lib/python3.11/site-packages (from requests->torchvision) (2023.11.17)\n",
      "Requirement already satisfied: six>=1.5 in /opt/homebrew/Caskroom/miniconda/base/envs/genAI/lib/python3.11/site-packages (from python-dateutil>=2.8.2->pandas->layoutparser) (1.16.0)\n",
      "Requirement already satisfied: MarkupSafe>=2.0 in /opt/homebrew/Caskroom/miniconda/base/envs/genAI/lib/python3.11/site-packages (from jinja2->torch==2.1.2->torchvision) (2.1.3)\n",
      "Requirement already satisfied: mpmath>=0.19 in /opt/homebrew/Caskroom/miniconda/base/envs/genAI/lib/python3.11/site-packages (from sympy->torch==2.1.2->torchvision) (1.3.0)\n",
      "Requirement already satisfied: cffi>=1.12 in /opt/homebrew/Caskroom/miniconda/base/envs/genAI/lib/python3.11/site-packages (from cryptography>=36.0.0->pdfminer.six==20221105->pdfplumber->layoutparser) (1.16.0)\n",
      "Requirement already satisfied: pycparser in /opt/homebrew/Caskroom/miniconda/base/envs/genAI/lib/python3.11/site-packages (from cffi>=1.12->cryptography>=36.0.0->pdfminer.six==20221105->pdfplumber->layoutparser) (2.21)\n"
     ]
    }
   ],
   "source": [
    "!pip install transformers\n",
    "!pip install layoutparser torchvision"
   ]
  },
  {
   "cell_type": "code",
   "execution_count": 6,
   "id": "74bb2bdf",
   "metadata": {},
   "outputs": [
    {
     "name": "stdout",
     "output_type": "stream",
     "text": [
      "Collecting detectron2@ git+https://github.com/facebookresearch/detectron2\n",
      "  Cloning https://github.com/facebookresearch/detectron2 to /private/var/folders/1s/7ls98k5958g_xps8dp1jql080000gn/T/pip-install-2eex0u6z/detectron2_6b2121a5fafc4f108138adcc462a7a3c\n",
      "  Running command git clone --filter=blob:none --quiet https://github.com/facebookresearch/detectron2 /private/var/folders/1s/7ls98k5958g_xps8dp1jql080000gn/T/pip-install-2eex0u6z/detectron2_6b2121a5fafc4f108138adcc462a7a3c\n",
      "  Resolved https://github.com/facebookresearch/detectron2 to commit e9f7e2ba15abd7badcb05ef6f5076f06b36a9c5b\n",
      "  Preparing metadata (setup.py) ... \u001b[?25ldone\n",
      "\u001b[?25hRequirement already satisfied: Pillow>=7.1 in /opt/homebrew/Caskroom/miniconda/base/envs/genAI/lib/python3.11/site-packages (from detectron2@ git+https://github.com/facebookresearch/detectron2) (10.0.1)\n",
      "Requirement already satisfied: matplotlib in /opt/homebrew/Caskroom/miniconda/base/envs/genAI/lib/python3.11/site-packages (from detectron2@ git+https://github.com/facebookresearch/detectron2) (3.8.2)\n",
      "Requirement already satisfied: pycocotools>=2.0.2 in /opt/homebrew/Caskroom/miniconda/base/envs/genAI/lib/python3.11/site-packages (from detectron2@ git+https://github.com/facebookresearch/detectron2) (2.0.7)\n",
      "Requirement already satisfied: termcolor>=1.1 in /opt/homebrew/Caskroom/miniconda/base/envs/genAI/lib/python3.11/site-packages (from detectron2@ git+https://github.com/facebookresearch/detectron2) (2.4.0)\n",
      "Requirement already satisfied: yacs>=0.1.8 in /opt/homebrew/Caskroom/miniconda/base/envs/genAI/lib/python3.11/site-packages (from detectron2@ git+https://github.com/facebookresearch/detectron2) (0.1.8)\n",
      "Requirement already satisfied: tabulate in /opt/homebrew/Caskroom/miniconda/base/envs/genAI/lib/python3.11/site-packages (from detectron2@ git+https://github.com/facebookresearch/detectron2) (0.9.0)\n",
      "Requirement already satisfied: cloudpickle in /opt/homebrew/Caskroom/miniconda/base/envs/genAI/lib/python3.11/site-packages (from detectron2@ git+https://github.com/facebookresearch/detectron2) (2.2.1)\n",
      "Requirement already satisfied: tqdm>4.29.0 in /opt/homebrew/Caskroom/miniconda/base/envs/genAI/lib/python3.11/site-packages (from detectron2@ git+https://github.com/facebookresearch/detectron2) (4.66.1)\n",
      "Requirement already satisfied: tensorboard in /opt/homebrew/Caskroom/miniconda/base/envs/genAI/lib/python3.11/site-packages (from detectron2@ git+https://github.com/facebookresearch/detectron2) (2.15.1)\n",
      "Requirement already satisfied: fvcore<0.1.6,>=0.1.5 in /opt/homebrew/Caskroom/miniconda/base/envs/genAI/lib/python3.11/site-packages (from detectron2@ git+https://github.com/facebookresearch/detectron2) (0.1.5.post20221221)\n",
      "Requirement already satisfied: iopath<0.1.10,>=0.1.7 in /opt/homebrew/Caskroom/miniconda/base/envs/genAI/lib/python3.11/site-packages (from detectron2@ git+https://github.com/facebookresearch/detectron2) (0.1.9)\n",
      "Requirement already satisfied: omegaconf<2.4,>=2.1 in /opt/homebrew/Caskroom/miniconda/base/envs/genAI/lib/python3.11/site-packages (from detectron2@ git+https://github.com/facebookresearch/detectron2) (2.3.0)\n",
      "Requirement already satisfied: hydra-core>=1.1 in /opt/homebrew/Caskroom/miniconda/base/envs/genAI/lib/python3.11/site-packages (from detectron2@ git+https://github.com/facebookresearch/detectron2) (1.3.2)\n",
      "Requirement already satisfied: black in /opt/homebrew/Caskroom/miniconda/base/envs/genAI/lib/python3.11/site-packages (from detectron2@ git+https://github.com/facebookresearch/detectron2) (21.4b2)\n",
      "Requirement already satisfied: packaging in /opt/homebrew/Caskroom/miniconda/base/envs/genAI/lib/python3.11/site-packages (from detectron2@ git+https://github.com/facebookresearch/detectron2) (23.2)\n",
      "Requirement already satisfied: numpy in /opt/homebrew/Caskroom/miniconda/base/envs/genAI/lib/python3.11/site-packages (from fvcore<0.1.6,>=0.1.5->detectron2@ git+https://github.com/facebookresearch/detectron2) (1.26.3)\n",
      "Requirement already satisfied: pyyaml>=5.1 in /opt/homebrew/Caskroom/miniconda/base/envs/genAI/lib/python3.11/site-packages (from fvcore<0.1.6,>=0.1.5->detectron2@ git+https://github.com/facebookresearch/detectron2) (6.0.1)\n",
      "Requirement already satisfied: antlr4-python3-runtime==4.9.* in /opt/homebrew/Caskroom/miniconda/base/envs/genAI/lib/python3.11/site-packages (from hydra-core>=1.1->detectron2@ git+https://github.com/facebookresearch/detectron2) (4.9.3)\n",
      "Requirement already satisfied: portalocker in /opt/homebrew/Caskroom/miniconda/base/envs/genAI/lib/python3.11/site-packages (from iopath<0.1.10,>=0.1.7->detectron2@ git+https://github.com/facebookresearch/detectron2) (2.8.2)\n",
      "Requirement already satisfied: contourpy>=1.0.1 in /opt/homebrew/Caskroom/miniconda/base/envs/genAI/lib/python3.11/site-packages (from matplotlib->detectron2@ git+https://github.com/facebookresearch/detectron2) (1.2.0)\n",
      "Requirement already satisfied: cycler>=0.10 in /opt/homebrew/Caskroom/miniconda/base/envs/genAI/lib/python3.11/site-packages (from matplotlib->detectron2@ git+https://github.com/facebookresearch/detectron2) (0.12.1)\n",
      "Requirement already satisfied: fonttools>=4.22.0 in /opt/homebrew/Caskroom/miniconda/base/envs/genAI/lib/python3.11/site-packages (from matplotlib->detectron2@ git+https://github.com/facebookresearch/detectron2) (4.47.0)\n",
      "Requirement already satisfied: kiwisolver>=1.3.1 in /opt/homebrew/Caskroom/miniconda/base/envs/genAI/lib/python3.11/site-packages (from matplotlib->detectron2@ git+https://github.com/facebookresearch/detectron2) (1.4.5)\n",
      "Requirement already satisfied: pyparsing>=2.3.1 in /opt/homebrew/Caskroom/miniconda/base/envs/genAI/lib/python3.11/site-packages (from matplotlib->detectron2@ git+https://github.com/facebookresearch/detectron2) (3.1.1)\n",
      "Requirement already satisfied: python-dateutil>=2.7 in /opt/homebrew/Caskroom/miniconda/base/envs/genAI/lib/python3.11/site-packages (from matplotlib->detectron2@ git+https://github.com/facebookresearch/detectron2) (2.8.2)\n",
      "Requirement already satisfied: click>=7.1.2 in /opt/homebrew/Caskroom/miniconda/base/envs/genAI/lib/python3.11/site-packages (from black->detectron2@ git+https://github.com/facebookresearch/detectron2) (8.1.7)\n",
      "Requirement already satisfied: appdirs in /opt/homebrew/Caskroom/miniconda/base/envs/genAI/lib/python3.11/site-packages (from black->detectron2@ git+https://github.com/facebookresearch/detectron2) (1.4.4)\n",
      "Requirement already satisfied: toml>=0.10.1 in /opt/homebrew/Caskroom/miniconda/base/envs/genAI/lib/python3.11/site-packages (from black->detectron2@ git+https://github.com/facebookresearch/detectron2) (0.10.2)\n",
      "Requirement already satisfied: regex>=2020.1.8 in /opt/homebrew/Caskroom/miniconda/base/envs/genAI/lib/python3.11/site-packages (from black->detectron2@ git+https://github.com/facebookresearch/detectron2) (2023.12.25)\n",
      "Requirement already satisfied: pathspec<1,>=0.8.1 in /opt/homebrew/Caskroom/miniconda/base/envs/genAI/lib/python3.11/site-packages (from black->detectron2@ git+https://github.com/facebookresearch/detectron2) (0.12.1)\n",
      "Requirement already satisfied: mypy-extensions>=0.4.3 in /opt/homebrew/Caskroom/miniconda/base/envs/genAI/lib/python3.11/site-packages (from black->detectron2@ git+https://github.com/facebookresearch/detectron2) (1.0.0)\n",
      "Requirement already satisfied: absl-py>=0.4 in /opt/homebrew/Caskroom/miniconda/base/envs/genAI/lib/python3.11/site-packages (from tensorboard->detectron2@ git+https://github.com/facebookresearch/detectron2) (2.0.0)\n",
      "Requirement already satisfied: grpcio>=1.48.2 in /opt/homebrew/Caskroom/miniconda/base/envs/genAI/lib/python3.11/site-packages (from tensorboard->detectron2@ git+https://github.com/facebookresearch/detectron2) (1.60.0)\n",
      "Requirement already satisfied: google-auth<3,>=1.6.3 in /opt/homebrew/Caskroom/miniconda/base/envs/genAI/lib/python3.11/site-packages (from tensorboard->detectron2@ git+https://github.com/facebookresearch/detectron2) (2.26.1)\n",
      "Requirement already satisfied: google-auth-oauthlib<2,>=0.5 in /opt/homebrew/Caskroom/miniconda/base/envs/genAI/lib/python3.11/site-packages (from tensorboard->detectron2@ git+https://github.com/facebookresearch/detectron2) (1.2.0)\n",
      "Requirement already satisfied: markdown>=2.6.8 in /opt/homebrew/Caskroom/miniconda/base/envs/genAI/lib/python3.11/site-packages (from tensorboard->detectron2@ git+https://github.com/facebookresearch/detectron2) (3.5.1)\n",
      "Requirement already satisfied: protobuf<4.24,>=3.19.6 in /opt/homebrew/Caskroom/miniconda/base/envs/genAI/lib/python3.11/site-packages (from tensorboard->detectron2@ git+https://github.com/facebookresearch/detectron2) (4.23.4)\n",
      "Requirement already satisfied: requests<3,>=2.21.0 in /opt/homebrew/Caskroom/miniconda/base/envs/genAI/lib/python3.11/site-packages (from tensorboard->detectron2@ git+https://github.com/facebookresearch/detectron2) (2.31.0)\n",
      "Requirement already satisfied: setuptools>=41.0.0 in /opt/homebrew/Caskroom/miniconda/base/envs/genAI/lib/python3.11/site-packages (from tensorboard->detectron2@ git+https://github.com/facebookresearch/detectron2) (68.2.2)\n",
      "Requirement already satisfied: six>1.9 in /opt/homebrew/Caskroom/miniconda/base/envs/genAI/lib/python3.11/site-packages (from tensorboard->detectron2@ git+https://github.com/facebookresearch/detectron2) (1.16.0)\n",
      "Requirement already satisfied: tensorboard-data-server<0.8.0,>=0.7.0 in /opt/homebrew/Caskroom/miniconda/base/envs/genAI/lib/python3.11/site-packages (from tensorboard->detectron2@ git+https://github.com/facebookresearch/detectron2) (0.7.2)\n",
      "Requirement already satisfied: werkzeug>=1.0.1 in /opt/homebrew/Caskroom/miniconda/base/envs/genAI/lib/python3.11/site-packages (from tensorboard->detectron2@ git+https://github.com/facebookresearch/detectron2) (3.0.1)\n",
      "Requirement already satisfied: cachetools<6.0,>=2.0.0 in /opt/homebrew/Caskroom/miniconda/base/envs/genAI/lib/python3.11/site-packages (from google-auth<3,>=1.6.3->tensorboard->detectron2@ git+https://github.com/facebookresearch/detectron2) (5.3.2)\n",
      "Requirement already satisfied: pyasn1-modules>=0.2.1 in /opt/homebrew/Caskroom/miniconda/base/envs/genAI/lib/python3.11/site-packages (from google-auth<3,>=1.6.3->tensorboard->detectron2@ git+https://github.com/facebookresearch/detectron2) (0.3.0)\n",
      "Requirement already satisfied: rsa<5,>=3.1.4 in /opt/homebrew/Caskroom/miniconda/base/envs/genAI/lib/python3.11/site-packages (from google-auth<3,>=1.6.3->tensorboard->detectron2@ git+https://github.com/facebookresearch/detectron2) (4.9)\n",
      "Requirement already satisfied: requests-oauthlib>=0.7.0 in /opt/homebrew/Caskroom/miniconda/base/envs/genAI/lib/python3.11/site-packages (from google-auth-oauthlib<2,>=0.5->tensorboard->detectron2@ git+https://github.com/facebookresearch/detectron2) (1.3.1)\n",
      "Requirement already satisfied: charset-normalizer<4,>=2 in /opt/homebrew/Caskroom/miniconda/base/envs/genAI/lib/python3.11/site-packages (from requests<3,>=2.21.0->tensorboard->detectron2@ git+https://github.com/facebookresearch/detectron2) (3.3.2)\n",
      "Requirement already satisfied: idna<4,>=2.5 in /opt/homebrew/Caskroom/miniconda/base/envs/genAI/lib/python3.11/site-packages (from requests<3,>=2.21.0->tensorboard->detectron2@ git+https://github.com/facebookresearch/detectron2) (3.6)\n",
      "Requirement already satisfied: urllib3<3,>=1.21.1 in /opt/homebrew/Caskroom/miniconda/base/envs/genAI/lib/python3.11/site-packages (from requests<3,>=2.21.0->tensorboard->detectron2@ git+https://github.com/facebookresearch/detectron2) (1.26.18)\n",
      "Requirement already satisfied: certifi>=2017.4.17 in /opt/homebrew/Caskroom/miniconda/base/envs/genAI/lib/python3.11/site-packages (from requests<3,>=2.21.0->tensorboard->detectron2@ git+https://github.com/facebookresearch/detectron2) (2023.11.17)\n",
      "Requirement already satisfied: MarkupSafe>=2.1.1 in /opt/homebrew/Caskroom/miniconda/base/envs/genAI/lib/python3.11/site-packages (from werkzeug>=1.0.1->tensorboard->detectron2@ git+https://github.com/facebookresearch/detectron2) (2.1.3)\n",
      "Requirement already satisfied: pyasn1<0.6.0,>=0.4.6 in /opt/homebrew/Caskroom/miniconda/base/envs/genAI/lib/python3.11/site-packages (from pyasn1-modules>=0.2.1->google-auth<3,>=1.6.3->tensorboard->detectron2@ git+https://github.com/facebookresearch/detectron2) (0.5.1)\n",
      "Requirement already satisfied: oauthlib>=3.0.0 in /opt/homebrew/Caskroom/miniconda/base/envs/genAI/lib/python3.11/site-packages (from requests-oauthlib>=0.7.0->google-auth-oauthlib<2,>=0.5->tensorboard->detectron2@ git+https://github.com/facebookresearch/detectron2) (3.2.2)\n",
      "Building wheels for collected packages: detectron2\n",
      "  Building wheel for detectron2 (setup.py) ... \u001b[?25ldone\n",
      "\u001b[?25h  Created wheel for detectron2: filename=detectron2-0.6-cp311-cp311-macosx_11_0_arm64.whl size=858172 sha256=5c75d977f66021bf61a240c2281a81aca46f41878565627c7f051e683294137f\n",
      "  Stored in directory: /private/var/folders/1s/7ls98k5958g_xps8dp1jql080000gn/T/pip-ephem-wheel-cache-_z25ukzg/wheels/82/fd/8c/d3f45a18b1ac1b9e8c451858d5f394138eeb3a7c9f3bfc590b\n",
      "Successfully built detectron2\n",
      "Installing collected packages: detectron2\n",
      "  Attempting uninstall: detectron2\n",
      "    Found existing installation: detectron2 0.5\n",
      "    Uninstalling detectron2-0.5:\n",
      "      Successfully uninstalled detectron2-0.5\n",
      "Successfully installed detectron2-0.6\n"
     ]
    }
   ],
   "source": [
    "!pip install \"detectron2@git+https://github.com/facebookresearch/detectron2\""
   ]
  },
  {
   "cell_type": "code",
   "execution_count": 5,
   "id": "ae8e44fd",
   "metadata": {},
   "outputs": [
    {
     "name": "stdout",
     "output_type": "stream",
     "text": [
      "Channels:\n",
      " - conda-forge\n",
      " - defaults\n",
      "Platform: osx-arm64\n",
      "Collecting package metadata (repodata.json): done\n",
      "Solving environment: done\n",
      "\n",
      "# All requested packages already installed.\n",
      "\n"
     ]
    }
   ],
   "source": [
    "!conda install -c conda-forge poppler -y"
   ]
  },
  {
   "cell_type": "code",
   "execution_count": 4,
   "id": "05ebd5e4",
   "metadata": {},
   "outputs": [
    {
     "name": "stdout",
     "output_type": "stream",
     "text": [
      "Channels:\n",
      " - conda-forge\n",
      " - defaults\n",
      "Platform: osx-arm64\n",
      "Collecting package metadata (repodata.json): done\n",
      "Solving environment: done\n",
      "\n",
      "# All requested packages already installed.\n",
      "\n"
     ]
    }
   ],
   "source": [
    "!conda install -c conda-forge tesseract -y"
   ]
  },
  {
   "cell_type": "markdown",
   "id": "534d4847",
   "metadata": {},
   "source": [
    "Import important and necessary libraries to run the entire project"
   ]
  },
  {
   "cell_type": "code",
   "execution_count": 1,
   "id": "ce453916",
   "metadata": {},
   "outputs": [],
   "source": [
    "import requests\n",
    "import getpass\n",
    "import os\n",
    "import re\n",
    "import io\n",
    "import base64\n",
    "import numpy as np\n",
    "from PIL import Image\n",
    "from langchain.schema.messages import HumanMessage, SystemMessage\n",
    "from operator import itemgetter\n",
    "from langchain.vectorstores.neo4j_vector import Neo4jVector\n",
    "from langchain.document_loaders import WikipediaLoader\n",
    "from langchain.embeddings.openai import OpenAIEmbeddings\n",
    "from langchain.text_splitter import CharacterTextSplitter, RecursiveCharacterTextSplitter\n",
    "from transformers import AutoModelForSeq2SeqLM, AutoTokenizer\n",
    "from typing import Any\n",
    "from pydantic import BaseModel\n",
    "from unstructured.partition.auto import partition_pdf\n",
    "from langchain.docstore.document import Document\n",
    "from langchain.document_loaders import TextLoader\n",
    "from langchain.embeddings.openai import OpenAIEmbeddings\n",
    "from langchain.text_splitter import CharacterTextSplitter\n",
    "from langchain.vectorstores import Neo4jVector\n",
    "from langchain.chat_models import ChatOpenAI\n",
    "from langchain.prompts import ChatPromptTemplate\n",
    "from langchain.schema.output_parser import StrOutputParser\n",
    "import uuid\n",
    "from langchain.embeddings import OpenAIEmbeddings\n",
    "from langchain.retrievers.multi_vector import MultiVectorRetriever\n",
    "from langchain.schema.runnable import RunnablePassthrough, RunnableLambda\n",
    "from langchain.schema.document import Document\n",
    "from langchain.storage import InMemoryStore\n",
    "from langchain.chat_models import ChatOpenAI, ChatOllama\n",
    "from langchain.chains import GraphCypherQAChain\n",
    "from langchain.graphs import Neo4jGraph\n",
    "from langchain_core.prompts.prompt import PromptTemplate\n",
    "from dotenv import load_dotenv"
   ]
  },
  {
   "cell_type": "code",
   "execution_count": 2,
   "id": "44694b35",
   "metadata": {},
   "outputs": [],
   "source": [
    "from langchain.callbacks.manager import CallbackManager\n",
    "from langchain.callbacks.streaming_stdout import StreamingStdOutCallbackHandler"
   ]
  },
  {
   "cell_type": "markdown",
   "id": "ca62ade8",
   "metadata": {},
   "source": [
    "Load the env variables securely from .env file"
   ]
  },
  {
   "cell_type": "code",
   "execution_count": 47,
   "id": "5ce0b445",
   "metadata": {},
   "outputs": [],
   "source": [
    "load_dotenv()\n",
    "\n",
    "os.environ[\"OPENAI_API_KEY\"] = os.getenv('OPENAI_API_KEY')\n",
    "os.environ[\"NEO4J_URI\"] = os.getenv('NEO4J_URI_2')\n",
    "os.environ[\"NEO4J_USERNAME\"] = os.getenv('NEO4J_USERNAME')\n",
    "os.environ[\"NEO4J_PASSWORD\"] = os.getenv('NEO4J_PASSWORD')\n",
    "\n",
    "url = os.getenv(\"NEO4J_URI\")\n",
    "username = os.getenv(\"NEO4J_USERNAME\")\n",
    "password = os.getenv(\"NEO4J_PASSWORD\")\n",
    "\n",
    "llm_name = os.getenv('LLM')\n",
    "ollama_base_url = os.getenv('OLLAMA_BASE_URL')\n"
   ]
  },
  {
   "cell_type": "code",
   "execution_count": 48,
   "id": "6f57d605",
   "metadata": {},
   "outputs": [
    {
     "name": "stdout",
     "output_type": "stream",
     "text": [
      "bolt://localhost:7687\n"
     ]
    }
   ],
   "source": [
    "print(os.getenv('NEO4J_URI_2'))"
   ]
  },
  {
   "cell_type": "code",
   "execution_count": 49,
   "id": "e0ea8883",
   "metadata": {},
   "outputs": [],
   "source": [
    "path = \"pdf/\""
   ]
  },
  {
   "cell_type": "markdown",
   "id": "0f119631",
   "metadata": {},
   "source": [
    "Use unstructured library to partition pdf into text, table, and image data"
   ]
  },
  {
   "cell_type": "code",
   "execution_count": 50,
   "id": "540f6948",
   "metadata": {},
   "outputs": [],
   "source": [
    "raw_pdf_elements = partition_pdf(\n",
    "    filename=path + \"DIA_Dino_Celi_druck.pdf\",\n",
    "    # Using pdf format to find embedded image blocks\n",
    "    # extract_images_in_pdf=True,\n",
    "    # Use layout model (YOLOX) to get bounding boxes (for tables) and find titles\n",
    "    # Titles are any sub-section of the document\n",
    "    infer_table_structure=True,\n",
    "    # Post processing to aggregate text once we have the title\n",
    "    chunking_strategy=\"by_title\",\n",
    "    # Chunking params to aggregate text blocks\n",
    "    # Attempt to create a new chunk 3800 chars\n",
    "    # Attempt to keep chunks > 2000 chars\n",
    "    # Hard max on chunks\n",
    "    max_characters=4000,\n",
    "    new_after_n_chars=3800,\n",
    "    combine_text_under_n_chars=2000,\n",
    "    image_output_dir_path=path+'img',\n",
    ")"
   ]
  },
  {
   "cell_type": "code",
   "execution_count": 12,
   "id": "fa5aca77",
   "metadata": {},
   "outputs": [],
   "source": [
    "class Element(BaseModel):\n",
    "    type: str\n",
    "    text: Any\n",
    "\n",
    "\n",
    "# Categorize by type\n",
    "categorized_elements = []\n",
    "for element in raw_pdf_elements:\n",
    "    if \"unstructured.documents.elements.Table\" in str(type(element)):\n",
    "        categorized_elements.append(Element(type=\"table\", text=str(element)))\n",
    "    elif \"unstructured.documents.elements.CompositeElement\" in str(type(element)):\n",
    "        categorized_elements.append(Element(type=\"text\", text=str(element)))\n",
    "\n",
    "# Tables\n",
    "table_elements = [e for e in categorized_elements if e.type == \"table\"]\n",
    "\n",
    "# Text\n",
    "text_elements = [e for e in categorized_elements if e.type == \"text\"]"
   ]
  },
  {
   "cell_type": "markdown",
   "id": "ff4874d7",
   "metadata": {},
   "source": [
    "## Neo4j Vector Index"
   ]
  },
  {
   "cell_type": "markdown",
   "id": "63d9361f",
   "metadata": {},
   "source": [
    "Use the Parent-Child indexing and retrieval strategy"
   ]
  },
  {
   "cell_type": "code",
   "execution_count": 13,
   "id": "a3448c2d",
   "metadata": {},
   "outputs": [],
   "source": [
    "# Prompt\n",
    "prompt_text = \"\"\"You are an assistant tasked with summarizing tables and text. \\\n",
    "Give a concise summary of the table or text. Table or text chunk: {element} \"\"\"\n",
    "prompt = ChatPromptTemplate.from_template(prompt_text)\n",
    "\n",
    "# Summary chain\n",
    "model = ChatOllama(\n",
    "            temperature=0,\n",
    "            base_url=ollama_base_url,\n",
    "            model=llm_name,\n",
    "            #streaming=True,\n",
    "            # seed=2,\n",
    "            #top_k=10,  # A higher value (100) will give more diverse answers, while a lower value (10) will be more conservative.\n",
    "            #top_p=0.3,  # Higher value (0.95) will lead to more diverse text, while a lower value (0.5) will generate more focused text.\n",
    "            #num_ctx=3072,  # Sets the size of the context window used to generate the next token.\n",
    "        )\n",
    "summarize_chain = {\"element\": lambda x: x} | prompt | model | StrOutputParser()"
   ]
  },
  {
   "cell_type": "code",
   "execution_count": 14,
   "id": "916150d6",
   "metadata": {},
   "outputs": [],
   "source": [
    "# Apply to text\n",
    "texts = [i.text for i in text_elements]\n",
    "text_summaries = summarize_chain.batch(texts, {\"max_concurrency\": 100})"
   ]
  },
  {
   "cell_type": "code",
   "execution_count": 15,
   "id": "ea6d8628",
   "metadata": {},
   "outputs": [],
   "source": [
    "# Apply to tables\n",
    "tables = [i.text for i in table_elements]\n",
    "table_summaries = summarize_chain.batch(tables, {\"max_concurrency\": 5})"
   ]
  },
  {
   "cell_type": "code",
   "execution_count": 9,
   "id": "fb2e75e8",
   "metadata": {
    "scrolled": true
   },
   "outputs": [],
   "source": [
    "import boto3\n",
    "\n",
    "s3_client = boto3.client('s3', region_name='us-east-1')\n",
    "bucket_name = 'neo4j-rag-img-s3'\n",
    "for img_file in sorted(os.listdir('./img')):\n",
    "    if img_file.endswith('.jpg'):\n",
    "        img_path = os.path.join('./img', img_file)\n",
    "        s3_client.upload_file(img_path, bucket_name, img_file)"
   ]
  },
  {
   "cell_type": "code",
   "execution_count": 10,
   "id": "7cb092a4",
   "metadata": {},
   "outputs": [],
   "source": [
    "def encode_image(image_path):\n",
    "    ''' Getting the base64 string '''\n",
    "    with open(image_path, \"rb\") as image_file:\n",
    "        return base64.b64encode(image_file.read()).decode('utf-8')\n",
    "    \n",
    "def encode_image_from_uri(image_uri):\n",
    "    ''' Getting the base64 string from an image URI '''\n",
    "    response = requests.get(image_uri)\n",
    "    if response.status_code == 200:\n",
    "        return base64.b64encode(response.content).decode('utf-8')\n",
    "    else:\n",
    "        raise Exception(f\"Failed to process image.\")\n",
    "\n",
    "def image_summarize(img_base64,prompt):\n",
    "    ''' Image summary '''\n",
    "    chat = ChatOpenAI(model=\"gpt-4-vision-preview\",\n",
    "                      max_tokens=1024)\n",
    "\n",
    "    msg = chat.invoke(\n",
    "        [\n",
    "            HumanMessage(\n",
    "                content=[\n",
    "                    {\"type\": \"text\", \"text\":prompt},\n",
    "                    {\n",
    "                        \"type\": \"image_url\",\n",
    "                        \"image_url\": {\n",
    "                            \"url\": f\"data:image/jpeg;base64,{img_base64}\"\n",
    "                        },\n",
    "                    },\n",
    "                ]\n",
    "            )\n",
    "        ]\n",
    "    )\n",
    "    return msg.content\n",
    "\n",
    "# Store base64 encoded images\n",
    "img_base64_list = []\n",
    "# Store image summaries\n",
    "image_summaries = []\n",
    "# Prompt\n",
    "prompt = \"Describe the image in detail. Be specific about graphs, such as bar plots.\"\n",
    "# Read images, encode to base64 strings\n",
    "response = s3_client.list_objects_v2(Bucket=bucket_name)\n",
    "if 'Contents' in response:\n",
    "    for item in response['Contents']:\n",
    "        file_name = item['Key']\n",
    "        if file_name.endswith('.jpg'):\n",
    "            image_uri = f\"https://{bucket_name}.s3.amazonaws.com/{file_name}\"\n",
    "            base64_image = encode_image_from_uri(image_uri)\n",
    "            img_base64_list.append(base64_image)\n",
    "            image_summaries.append(image_summarize(base64_image,prompt))"
   ]
  },
  {
   "cell_type": "markdown",
   "id": "57370e2f",
   "metadata": {},
   "source": [
    "We will index the child chunks in a Neo4j vector index and store the parent documents in memory"
   ]
  },
  {
   "cell_type": "code",
   "execution_count": 38,
   "id": "89c4269d",
   "metadata": {},
   "outputs": [
    {
     "ename": "TypeError",
     "evalue": "Neo4jVector.from_embeddings() missing 1 required positional argument: 'text_embeddings'",
     "output_type": "error",
     "traceback": [
      "\u001b[0;31m---------------------------------------------------------------------------\u001b[0m",
      "\u001b[0;31mTypeError\u001b[0m                                 Traceback (most recent call last)",
      "Cell \u001b[0;32mIn[38], line 4\u001b[0m\n\u001b[1;32m      1\u001b[0m \u001b[38;5;66;03m# The vectorstore to use to index the child chunks\u001b[39;00m\n\u001b[1;32m      2\u001b[0m index_name \u001b[38;5;241m=\u001b[39m \u001b[38;5;124m'\u001b[39m\u001b[38;5;124mvector\u001b[39m\u001b[38;5;124m'\u001b[39m\n\u001b[0;32m----> 4\u001b[0m vectorstore \u001b[38;5;241m=\u001b[39m \u001b[43mNeo4jVector\u001b[49m\u001b[38;5;241;43m.\u001b[39;49m\u001b[43mfrom_embeddings\u001b[49m\u001b[43m(\u001b[49m\n\u001b[1;32m      5\u001b[0m \u001b[43m    \u001b[49m\u001b[43membedding\u001b[49m\u001b[38;5;241;43m=\u001b[39;49m\u001b[43mOpenAIEmbeddings\u001b[49m\u001b[43m(\u001b[49m\u001b[43m)\u001b[49m\u001b[43m,\u001b[49m\n\u001b[1;32m      6\u001b[0m \u001b[43m    \u001b[49m\u001b[43murl\u001b[49m\u001b[38;5;241;43m=\u001b[39;49m\u001b[43mos\u001b[49m\u001b[38;5;241;43m.\u001b[39;49m\u001b[43menviron\u001b[49m\u001b[43m[\u001b[49m\u001b[38;5;124;43m\"\u001b[39;49m\u001b[38;5;124;43mNEO4J_URI\u001b[39;49m\u001b[38;5;124;43m\"\u001b[39;49m\u001b[43m]\u001b[49m\u001b[43m,\u001b[49m\u001b[43m \u001b[49m\n\u001b[1;32m      7\u001b[0m \u001b[43m    \u001b[49m\u001b[43musername\u001b[49m\u001b[38;5;241;43m=\u001b[39;49m\u001b[43mos\u001b[49m\u001b[38;5;241;43m.\u001b[39;49m\u001b[43menviron\u001b[49m\u001b[43m[\u001b[49m\u001b[38;5;124;43m\"\u001b[39;49m\u001b[38;5;124;43mNEO4J_USERNAME\u001b[39;49m\u001b[38;5;124;43m\"\u001b[39;49m\u001b[43m]\u001b[49m\u001b[43m,\u001b[49m\u001b[43m \u001b[49m\n\u001b[1;32m      8\u001b[0m \u001b[43m    \u001b[49m\u001b[43mpassword\u001b[49m\u001b[38;5;241;43m=\u001b[39;49m\u001b[43mos\u001b[49m\u001b[38;5;241;43m.\u001b[39;49m\u001b[43menviron\u001b[49m\u001b[43m[\u001b[49m\u001b[38;5;124;43m\"\u001b[39;49m\u001b[38;5;124;43mNEO4J_PASSWORD\u001b[39;49m\u001b[38;5;124;43m\"\u001b[39;49m\u001b[43m]\u001b[49m\u001b[43m,\u001b[49m\n\u001b[1;32m      9\u001b[0m \u001b[43m    \u001b[49m\u001b[43mindex_name\u001b[49m\u001b[38;5;241;43m=\u001b[39;49m\u001b[43mindex_name\u001b[49m\u001b[43m,\u001b[49m\n\u001b[1;32m     10\u001b[0m \u001b[43m)\u001b[49m\n\u001b[1;32m     12\u001b[0m \u001b[38;5;66;03m# The storage layer for the parent documents\u001b[39;00m\n\u001b[1;32m     13\u001b[0m store \u001b[38;5;241m=\u001b[39m InMemoryStore()\n",
      "\u001b[0;31mTypeError\u001b[0m: Neo4jVector.from_embeddings() missing 1 required positional argument: 'text_embeddings'"
     ]
    }
   ],
   "source": [
    "# The vectorstore to use to index the child chunks\n",
    "index_name = 'vector'\n",
    "\n",
    "vectorstore = Neo4jVector.from_existing_index(\n",
    "    OpenAIEmbeddings(),\n",
    "    url=os.environ[\"NEO4J_URI\"], \n",
    "    username=os.environ[\"NEO4J_USERNAME\"], \n",
    "    password=os.environ[\"NEO4J_PASSWORD\"],\n",
    "    index_name=index_name,\n",
    ")\n",
    "\n",
    "# The storage layer for the parent documents\n",
    "store = InMemoryStore()\n",
    "id_key = \"doc_id\"\n",
    "\n",
    "# The retriever (empty to start)\n",
    "retriever = MultiVectorRetriever(\n",
    "    vectorstore=vectorstore,\n",
    "    docstore=store,\n",
    "    id_key=id_key\n",
    ")\n",
    "\n",
    "# Add texts\n",
    "doc_ids = [str(uuid.uuid4()) for _ in texts]\n",
    "summary_texts = [\n",
    "    Document(page_content=s, metadata={id_key: doc_ids[i]})\n",
    "    for i, s in enumerate(text_summaries)\n",
    "]\n",
    "retriever.vectorstore.add_documents(summary_texts)\n",
    "retriever.docstore.mset(list(zip(doc_ids, texts)))\n",
    "\n",
    "# Add tables\n",
    "table_ids = [str(uuid.uuid4()) for _ in tables]\n",
    "summary_tables = [\n",
    "    Document(page_content=s, metadata={id_key: table_ids[i]})\n",
    "    for i, s in enumerate(table_summaries)\n",
    "]\n",
    "retriever.vectorstore.add_documents(summary_tables)\n",
    "retriever.docstore.mset(list(zip(table_ids, tables)))\n",
    "\n",
    "# Add image summaries\n",
    "# img_ids = [str(uuid.uuid4()) for _ in img_base64_list]\n",
    "# summary_img = [\n",
    "#     Document(page_content=s, metadata={id_key: img_ids[i]})\n",
    "#     for i, s in enumerate(image_summaries)\n",
    "# ]\n",
    "# retriever.vectorstore.add_documents(summary_img)\n",
    "# retriever.docstore.mset(list(zip(img_ids, img_base64_list)))"
   ]
  },
  {
   "cell_type": "code",
   "execution_count": 34,
   "id": "73b01085",
   "metadata": {},
   "outputs": [
    {
     "data": {
      "text/plain": [
       "'2018 2019 2020 2021 Leistung (€ Mio.) 16.322,88 16.617,97 15.446,61 16.128,92 Umsatzerlöse (€ Mio.) 15.221,83 15.668,57 14.749,74 15.298,54 Auftragsbestand (€ Mio.) 16.899,71 17.411,48 18.369,02 22.500,85 Mitarbeiteranzahl (FTE) 75.460 76.919 74.340 73.606 ∆ % 10 11 6 0 2022 17.735,47 17.025,85 23.738,84 73.740'"
      ]
     },
     "execution_count": 34,
     "metadata": {},
     "output_type": "execute_result"
    }
   ],
   "source": [
    "tables[0]"
   ]
  },
  {
   "cell_type": "code",
   "execution_count": 35,
   "id": "0fbae18a",
   "metadata": {},
   "outputs": [
    {
     "data": {
      "text/plain": [
       "\"The table shows the financial performance of a company from 2018 to 2022. Here is a summary of the key points:\\n\\n* Revenue (€ million): 15.221,83 in 2018, 15.668,57 in 2019, 14.749,74 in 2020, and 15.298,54 in 2021.\\n* Earnings (€ million): 16.322,88 in 2018, 16.617,97 in 2019, 15.446,61 in 2020, and 16.128,92 in 2021.\\n* Order backlog (€ million): 16.899,71 in 2018, 17.411,48 in 2019, 18.369,02 in 2020, and 22.500,85 in 2021.\\n* Number of employees (full-time equivalents): 75.460 in 2018, 76.919 in 2019, 74.340 in 2020, and 73.606 in 2021.\\n* Percentage change from the previous year: The company experienced a 10% increase in revenue in 2019, a 6% decrease in 2020, and a 0% increase in 2021.\\n\\nOverall, the company's financial performance improved from 2018 to 2019 but then declined in 2020 before recovering in 2021.\""
      ]
     },
     "execution_count": 35,
     "metadata": {},
     "output_type": "execute_result"
    }
   ],
   "source": [
    "table_summaries[0]"
   ]
  },
  {
   "cell_type": "code",
   "execution_count": 14,
   "id": "c76ca7eb",
   "metadata": {},
   "outputs": [
    {
     "data": {
      "text/plain": [
       "'5.1. Text\\n\\n5.1.1. Academic Benchmarks\\n\\nWe compare Gemini Pro and Ultra to a suite of external LLMs and our previous best model PaLM 2 across a series of text-based academic benchmarks covering reasoning, reading comprehension, STEM, and coding. We report these results in Table 2. Broadly, we find that the performance of Gemini Pro outperforms inference-optimized models such as GPT-3.5 and performs comparably with several of the most capable models available, and Gemini Ultra outperforms all current models. In this section, we examine some of these findings.\\n\\nOn MMLU (Hendrycks et al., 2021a), Gemini Ultra can outperform all existing models, achieving an accuracy of 90.04%. MMLU is a holistic exam benchmark, which measures knowledge across a set of 57 subjects. Human expert performance is gauged at 89.8% by the benchmark authors, and Gemini Ultra is the first model to exceed this threshold, with the prior state-of-the-art result at 86.4%. Achieving high performance requires specialist knowledge across many domains (e.g. law, biology, history, etc.), alongside reading comprehension and reasoning. We find Gemini Ultra achieves highest accuracy when used in combination with a chain-of-thought prompting approach (Wei et al., 2022) that accounts for model uncertainty. The model produces a chain of thought with k samples, for example 8 or 32. If there is a consensus above a preset threshold (selected based on the validation split), it selects this answer, otherwise it reverts to a greedy sample based on maximum likelihood choice without chain of thought. We refer the reader to appendix for a detailed breakdown of how this approach compares with only chain-of-thought prompting or only greedy sampling.\\n\\nIn mathematics, a field commonly used to benchmark the analytical capabilities of models, Gemini Ultra shows strong performance on both elementary exams and competition-grade problem sets. For the grade-school math benchmark, GSM8K (Cobbe et al., 2021), we find Gemini Ultra reaches 94.4% accuracy with chain-of-thought prompting and self-consistency (Wang et al., 2022) compared to the previous best accuracy of 92% with the same prompting technique. Similar positive trends are observed in increased difficulty math problems drawn from middle- and high-school math competitions (MATH benchmark), with the Gemini Ultra model outperforming all competitor models, reaching 53.2% using 4-shot prompting. The model also outperforms the state of the art on even harder tasks derived from American Mathematical Competitions (150 questions from 2022 and 2023). Smaller models perform poorly on this challenging task scoring close to random, but Gemini Ultra can solve 32% of the questions, compared to the 30% solve rate for GPT-4.\\n\\nGemini Ultra also excels in coding, a popular use case of current LLMs. We evaluate the model on many conventional and internal benchmarks and also measure its performance as part of more complex reasoning systems such as AlphaCode 2 (see section 5.1.7 on complex reasoning systems). For example, on HumanEval, a standard code-completion benchmark (Chen et al., 2021) mapping function descriptions to Python implementations, instruction-tuned Gemini Ultra correctly implements 74.4% of problems. On a new held-out evaluation benchmark for python code generation tasks, Natural2Code, where we ensure no web leakage, Gemini Ultra achieves the highest score of 74.9%.\\n\\nGemini: A Family of Highly Capable Multimodal Models'"
      ]
     },
     "execution_count": 14,
     "metadata": {},
     "output_type": "execute_result"
    }
   ],
   "source": [
    "retriever.get_relevant_documents(\n",
    "    \"Which model outperforms on the Mmlu benchmark and is very similar to Palm-2?\"\n",
    ")[0]"
   ]
  },
  {
   "cell_type": "code",
   "execution_count": 15,
   "id": "19aa524e",
   "metadata": {},
   "outputs": [],
   "source": [
    "from base64 import b64decode\n",
    "def split_text_image(docs):\n",
    "    b64 = []\n",
    "    text = []\n",
    "    for doc in docs:\n",
    "        try:\n",
    "            b64decode(doc)\n",
    "            b64.append(doc)\n",
    "        except Exception as e:\n",
    "            text.append(doc)\n",
    "    return {\n",
    "        \"images\": b64,\n",
    "        \"texts\": text\n",
    "    }\n",
    "\n",
    "def is_base64(s):\n",
    "    try:\n",
    "        if not re.match('^[A-Za-z0-9+/]+[=]{0,2}$', s):\n",
    "            return False\n",
    "        if len(s) % 4 != 0:\n",
    "            return False\n",
    "        base64.b64decode(s, validate=True)\n",
    "        return True\n",
    "    except Exception:\n",
    "        return False"
   ]
  },
  {
   "cell_type": "markdown",
   "id": "02bc032e",
   "metadata": {},
   "source": [
    "We will use the GPT-4V model for final generation as the retrieved information might contain image data"
   ]
  },
  {
   "cell_type": "code",
   "execution_count": 16,
   "id": "f4231a53",
   "metadata": {},
   "outputs": [],
   "source": [
    "def gpt4v_prompt(dict):\n",
    "    format_texts = \"\\n\".join(dict[\"context\"][\"texts\"])\n",
    "    if len(dict['context']['images'])>0 and is_base64(dict['context']['images'][0]):\n",
    "        content=[\n",
    "            {\"type\": \"text\", \"text\": f\"\"\"Answer the question based only on the following context, which can include text, tables, and the below image:\n",
    "                Question: {dict[\"question\"]}\n",
    "\n",
    "                Text and tables:\n",
    "                {format_texts}\n",
    "                \"\"\"\n",
    "            },\n",
    "            {\"type\": \"image_url\", \n",
    "             \"image_url\": {\"url\": f\"data:image/jpeg;base64,{dict['context']['images'][0]}\"}},\n",
    "        ]\n",
    "    else:\n",
    "        content=[\n",
    "            {\"type\": \"text\", \"text\": f\"\"\"Answer the question based only on the following context, which can include text, tables, and the below image:\n",
    "                Question: {dict[\"question\"]}\n",
    "\n",
    "                Text and tables:\n",
    "                {format_texts}\n",
    "                \"\"\"\n",
    "            }\n",
    "        ]\n",
    "        \n",
    "    return [\n",
    "            HumanMessage(\n",
    "                content=content\n",
    "            )\n",
    "        ]\n",
    "        \n",
    "\n",
    "model = ChatOpenAI(temperature=0, model=\"gpt-4-vision-preview\", max_tokens=1024)\n",
    "chain = (\n",
    "    {\"context\": retriever | RunnableLambda(split_text_image), \"question\": RunnablePassthrough()}\n",
    "    | RunnableLambda(gpt4v_prompt)\n",
    "    | model\n",
    "    | StrOutputParser()\n",
    ")"
   ]
  },
  {
   "cell_type": "code",
   "execution_count": 17,
   "id": "60c9491a",
   "metadata": {
    "scrolled": false
   },
   "outputs": [
    {
     "data": {
      "text/plain": [
       "'Gemini Ultra outperforms on the MMLU benchmark with an accuracy of 90.04%, which is very similar to Palm-2.'"
      ]
     },
     "execution_count": 17,
     "metadata": {},
     "output_type": "execute_result"
    }
   ],
   "source": [
    "vector_result1 = chain.invoke(\n",
    "    \"Which model outperforms on the Mmlu benchmark and is very similar to Palm-2?\"\n",
    ")\n",
    "vector_result1"
   ]
  },
  {
   "cell_type": "code",
   "execution_count": 18,
   "id": "ca9ba39c",
   "metadata": {},
   "outputs": [
    {
     "data": {
      "text/plain": [
       "'Safety Filtering and Quality Filters are applied to all Gemini models, as mentioned in the \"Training Dataset\" section of the provided text.'"
      ]
     },
     "execution_count": 18,
     "metadata": {},
     "output_type": "execute_result"
    }
   ],
   "source": [
    "vector_result2 = chain.invoke(\n",
    "    \"Which models apply Safety Filtering and Quality Filters\"\n",
    ")\n",
    "vector_result2"
   ]
  },
  {
   "cell_type": "markdown",
   "id": "ec07b67d",
   "metadata": {},
   "source": [
    "## Neo4j DB QA chain"
   ]
  },
  {
   "cell_type": "markdown",
   "id": "d10c9cd9",
   "metadata": {},
   "source": [
    "Once the graph is constructed, we need to connect to the Neo4j instance and print the schema."
   ]
  },
  {
   "cell_type": "code",
   "execution_count": 19,
   "id": "35593887",
   "metadata": {},
   "outputs": [],
   "source": [
    "load_dotenv()\n",
    "os.environ[\"OPENAI_API_KEY\"] = os.getenv('OPENAI_API_KEY')\n",
    "os.environ[\"NEO4J_URI\"] = os.getenv('NEO4J_URI2')\n",
    "os.environ[\"NEO4J_USERNAME\"] = os.getenv('NEO4J_USERNAME')\n",
    "os.environ[\"NEO4J_PASSWORD\"] = os.getenv('NEO4J_PASSWORD2')"
   ]
  },
  {
   "cell_type": "code",
   "execution_count": 20,
   "id": "5f052916",
   "metadata": {},
   "outputs": [],
   "source": [
    "graph = Neo4jGraph(\n",
    "    url=os.environ[\"NEO4J_URI\"], \n",
    "    username=os.environ[\"NEO4J_USERNAME\"], \n",
    "    password=os.environ[\"NEO4J_PASSWORD\"],\n",
    ")"
   ]
  },
  {
   "cell_type": "code",
   "execution_count": 21,
   "id": "6badc79e",
   "metadata": {},
   "outputs": [
    {
     "name": "stdout",
     "output_type": "stream",
     "text": [
      "Node properties are the following:\n",
      "Organization {name: STRING, id: STRING},Multimodal model {name: STRING, description: STRING, id: STRING},Team {name: STRING, affiliation: STRING, id: STRING},Model {name: STRING, version: STRING, id: STRING, sizes: STRING, performance: STRING, modelDescription: STRING, modelSize: STRING},Modelsize {id: STRING, name: STRING, description: STRING},Benchmark {description: STRING, id: STRING, name: STRING, accuracy: STRING},Person {id: STRING, name: STRING},Concept {id: STRING, name: STRING},Model family {id: STRING, name: STRING},Accelerator {id: STRING, name: STRING},Reference {name: STRING, id: STRING, year: STRING, authors: STRING},Challenge {name: STRING, description: STRING, id: STRING},Hardware {name: STRING, description: STRING, id: STRING},Network {description: STRING, id: STRING, references: STRING, name: STRING},Training paradigm {name: STRING, description: STRING, id: STRING},Programming model {description: STRING, id: STRING, name: STRING},Compiler {name: STRING, description: STRING, id: STRING},Technique {name: STRING, id: STRING, description: STRING},Problem {description: STRING, id: STRING, references: STRING, name: STRING},Dataset {id: STRING, name: STRING},Tokenizer {name: STRING, id: STRING},Filter {name: STRING, id: STRING},Mixture {id: STRING, name: STRING},Weight {id: STRING, name: STRING},Metric {id: STRING, name: STRING},Table {id: STRING, name: STRING},Parameter {id: STRING, name: STRING},Technology {id: STRING, name: STRING},Date {id: STRING, name: STRING},Researcher {name: STRING, id: STRING},Node {name: STRING, id: STRING, numericalvalue: STRING, imageuri: STRING},Text {name: STRING, content: STRING, id: STRING},Image {name: STRING, imageuri: STRING, id: STRING},Chunk {doc_id: STRING, id: STRING, text: STRING, embedding: LIST}\n",
      "Relationship properties are the following:\n",
      "PRODUCES_CHAIN_OF_THOUGHT_WITH_K_SAMPLES {k: STRING},PRODUCES_CHAIN_OF_THOUGHT_WITH_CONSENSUS_THRESHOLD {threshold: STRING},RESULTS_COLLECTED_VIA {date: STRING},ADDITIONAL_FINETUNING_STEPS_IMPROVE_VALIDATION_ACCURACY {geminiPro: STRING, geminiUltra: STRING, gpt-4: STRING}\n",
      "The relationships are the following:\n",
      "(:Multimodal model)-[:DEVELOPED_BY]->(:Organization),(:Team)-[:AFFILIATED_WITH]->(:Organization),(:Model)-[:PRODUCES_CHAIN_OF_THOUGHT_WITH_CONSENSUS_THRESHOLD]->(:Parameter),(:Model)-[:HASSIZE]->(:Modelsize),(:Model)-[:HASVERSION]->(:Model),(:Model)-[:PRODUCES_CHAIN_OF_THOUGHT_WITH_K_SAMPLES]->(:Parameter),(:Model)-[:USED]->(:Accelerator),(:Model)-[:CITED]->(:Reference),(:Model)-[:OUTPERFORMS]->(:Benchmark),(:Model)-[:COMPAREDTO]->(:Model),(:Model)-[:ACHIEVESPERFORMANCE]->(:Benchmark),(:Model)-[:BELONGS_TO]->(:Model family),(:Model)-[:APPLY_FILTERS]->(:Filter),(:Model)-[:TRAINED_ON]->(:Dataset),(:Model)-[:USES_TOKENIZER]->(:Tokenizer),(:Model)-[:TRAINED_FOR]->(:Model),(:Model)-[:FILTER_FROM]->(:Dataset),(:Model)-[:DETERMINE_MIXTURE]->(:Mixture),(:Model)-[:DEFINE_METRIC]->(:Metric),(:Model)-[:COMPARED_TO]->(:Model),(:Person)-[:IDENTIFIEDMISTAKE]->(:Concept),(:Person)-[:CREATED]->(:Concept),(:Concept)-[:HAS]->(:Concept),(:Concept)-[:EXPLANATION]->(:Concept),(:Concept)-[:CALCULATION]->(:Concept),(:Concept)-[:USES]->(:Concept),(:Concept)-[:CALCULATES]->(:Concept),(:Concept)-[:BUILD_ON_TOP_OF]->(:Concept),(:Concept)-[:INGESTS_AUDIO_SIGNALS_FROM]->(:Concept),(:Model family)-[:INSPIRED_BY]->(:Concept),(:Challenge)-[:RESULTSIN]->(:Model),(:Hardware)-[:DEPLOYEDIN]->(:Model),(:Network)-[:USEDFOR]->(:Model),(:Training paradigm)-[:USEDIN]->(:Model),(:Programming model)-[:USEDFOR]->(:Model),(:Compiler)-[:USEDIN]->(:Model),(:Technique)-[:USEDIN]->(:Model),(:Problem)-[:ADDRESSES]->(:Model),(:Problem)-[:CITED]->(:Reference),(:Mixture)-[:DETERMINE_WEIGHT]->(:Weight),(:Table)-[:RESULTS_COMPARISON]->(:Researcher),(:Table)-[:PERFORMANCE_ON_BENCHMARKS]->(:Model),(:Table)-[:RESULTS_COLLECTED_VIA]->(:Technology),(:Table)-[:NOT_REPORTED_RESULTS_ON]->(:Researcher),(:Table)-[:NOT_REPORTED_RESULTS_ON]->(:Benchmark),(:Table)-[:ADDITIONAL_FINETUNING_STEPS_IMPROVE_VALIDATION_ACCURACY]->(:Benchmark),(:Table)-[:REPORT_DECONTAMINATED_RESULTS_ONLY_IN_10_SHOT_EVALUATION_SETTING]->(:Benchmark),(:Table)-[:EVALUATE_ON_NEW_HELD_OUT_EVALUATION_DATASETS]->(:Benchmark),(:Table)-[:BENCHMARK_RESULTS_SUSCEPTIBLE_TO_PRETRAINING_DATASET_COMPOSITION]->(:Researcher),(:Node)-[:PROCESS]->(:Node),(:Node)-[:OUTPUT]->(:Node),(:Image)-[:HASERROR]->(:Text),(:Image)-[:HASINSTRUCTION]->(:Text),(:Image)-[:HASPROBLEM]->(:Text),(:Image)-[:HASDIAGRAM]->(:Text),(:Image)-[:HASPROMPT]->(:Text),(:Image)-[:HASSOLUTION]->(:Text)\n"
     ]
    }
   ],
   "source": [
    "print(graph.schema)"
   ]
  },
  {
   "cell_type": "markdown",
   "id": "3a1bd1e4",
   "metadata": {},
   "source": [
    "We are modifying the CYPHER_GENERATION_TEMPLATE and the CYPHER_QA_TEMPLATE template. This is because we have image uris associated with certain nodes in the graph and we aim to retrieve them and pass them to gpt4v for potentially better output response."
   ]
  },
  {
   "cell_type": "code",
   "execution_count": 22,
   "id": "ab18983e",
   "metadata": {},
   "outputs": [],
   "source": [
    "CYPHER_GENERATION_TEMPLATE = \"\"\"Task: Generate Cypher statement to query a graph database.\n",
    "Instructions:\n",
    "Use only the provided relationship types and properties in the schema.\n",
    "Do not use any other relationship types or properties that are not provided.\n",
    "Schema:\n",
    "{schema}\n",
    "Do not include any explanations or apologies in your responses.\n",
    "Do not respond to any questions that might ask anything else than for you to construct a Cypher statement.\n",
    "Do not include any text except the generated Cypher statement.\n",
    "Only if the node associated with the result cypher query contains 'imageuri' property return it as well.\n",
    "\n",
    "The question is:\n",
    "{question}\"\"\"\n",
    "CYPHER_GENERATION_PROMPT = PromptTemplate(\n",
    "    input_variables=[\"schema\", \"question\"], template=CYPHER_GENERATION_TEMPLATE\n",
    ")"
   ]
  },
  {
   "cell_type": "code",
   "execution_count": 23,
   "id": "2317d886",
   "metadata": {},
   "outputs": [],
   "source": [
    "CYPHER_QA_TEMPLATE = \"\"\"You are an assistant that helps to form nice and human understandable answers.\n",
    "The information part contains the provided information that you must use to construct an answer.\n",
    "If the context contains link/imageuri, include it in the final answer output.\n",
    "The provided information is authoritative, you must never doubt it or try to use your internal knowledge to correct it.\n",
    "Make the answer sound as a response to the question. Do not mention that you based the result on the given information.\n",
    "If the provided information is empty, say that you don't know the answer.\n",
    "Information:\n",
    "{context}\n",
    "\n",
    "Examples:\n",
    "Question: What is the most fastest car?\n",
    "Helpful Answer: The fastest car on the list is Bugatti Chiron. Image URI: https://manofmany.com/wp-content/uploads/2019/09/Bugatti-Chiron.jpg\n",
    "\n",
    "Question: What is the most fastest car on Mars?\n",
    "Helpful Answer: The fastest car on Mars is unknown. Image URI: None\n",
    "\n",
    "Question: {question}\n",
    "Helpful Answer:\"\"\"\n",
    "CYPHER_QA_PROMPT = PromptTemplate(\n",
    "    input_variables=[\"context\", \"question\"], template=CYPHER_QA_TEMPLATE\n",
    ")"
   ]
  },
  {
   "cell_type": "code",
   "execution_count": 24,
   "id": "746470cb",
   "metadata": {},
   "outputs": [],
   "source": [
    "graph_chain = GraphCypherQAChain.from_llm(\n",
    "    ChatOpenAI(temperature=0), \n",
    "    graph=graph, \n",
    "    cypher_prompt=CYPHER_GENERATION_PROMPT, \n",
    "    qa_prompt=CYPHER_QA_PROMPT,\n",
    "    verbose=True\n",
    ")"
   ]
  },
  {
   "cell_type": "code",
   "execution_count": 32,
   "id": "eccb533f",
   "metadata": {},
   "outputs": [
    {
     "name": "stdout",
     "output_type": "stream",
     "text": [
      "\n",
      "\n",
      "\u001b[1m> Entering new GraphCypherQAChain chain...\u001b[0m\n",
      "Generated Cypher:\n",
      "\u001b[32;1m\u001b[1;3mMATCH (m:Model)-[:OUTPERFORMS]->(b:Benchmark {name: \"Mmlu\"})\n",
      "MATCH (m)-[:COMPAREDTO]->(m2:Model {name: \"Palm-2\"})\n",
      "RETURN m.name, m.imageuri\u001b[0m\n",
      "Full Context:\n",
      "\u001b[32;1m\u001b[1;3m[{'m.name': 'Gemini Ultra', 'm.imageuri': None}]\u001b[0m\n",
      "\n",
      "\u001b[1m> Finished chain.\u001b[0m\n"
     ]
    }
   ],
   "source": [
    "graph_result1 = graph_chain.run(\"Which model outperforms on the Mmlu benchmark and is very similar to Palm-2?\")"
   ]
  },
  {
   "cell_type": "code",
   "execution_count": 33,
   "id": "74d6ae1d",
   "metadata": {},
   "outputs": [
    {
     "data": {
      "text/plain": [
       "'The model that outperforms on the Mmlu benchmark and is very similar to Palm-2 is Gemini Ultra. Image URI: None'"
      ]
     },
     "execution_count": 33,
     "metadata": {},
     "output_type": "execute_result"
    }
   ],
   "source": [
    "graph_result1"
   ]
  },
  {
   "cell_type": "code",
   "execution_count": 34,
   "id": "ab691e62",
   "metadata": {},
   "outputs": [
    {
     "name": "stdout",
     "output_type": "stream",
     "text": [
      "\n",
      "\n",
      "\u001b[1m> Entering new GraphCypherQAChain chain...\u001b[0m\n",
      "Generated Cypher:\n",
      "\u001b[32;1m\u001b[1;3mMATCH (m:Model)-[:APPLY_FILTERS]->(f:Filter)\n",
      "WHERE f.name = 'Safety Filtering' OR f.name = 'Quality Filters'\n",
      "RETURN m.name, m.id, m.imageuri\u001b[0m\n",
      "Full Context:\n",
      "\u001b[32;1m\u001b[1;3m[{'m.name': 'Gemini Models', 'm.id': 'Gemini Models', 'm.imageuri': None}, {'m.name': 'Gemini Models', 'm.id': 'Gemini Models', 'm.imageuri': None}]\u001b[0m\n",
      "\n",
      "\u001b[1m> Finished chain.\u001b[0m\n"
     ]
    }
   ],
   "source": [
    "graph_result2 = graph_chain.run(\"Which models apply Safety Filtering and Quality Filters\")"
   ]
  },
  {
   "cell_type": "code",
   "execution_count": 35,
   "id": "c662f471",
   "metadata": {},
   "outputs": [
    {
     "data": {
      "text/plain": [
       "'Gemini Models apply Safety Filtering and Quality Filters. Image URI: None'"
      ]
     },
     "execution_count": 35,
     "metadata": {},
     "output_type": "execute_result"
    }
   ],
   "source": [
    "graph_result2"
   ]
  },
  {
   "cell_type": "markdown",
   "id": "8b6c14b5",
   "metadata": {},
   "source": [
    "We split the text and imageuri same as before because thats the format in which the gpt-4v model api requires us to pass text and image data."
   ]
  },
  {
   "cell_type": "code",
   "execution_count": 36,
   "id": "4975bb1c",
   "metadata": {},
   "outputs": [],
   "source": [
    "def split_text_image(dict):\n",
    "    res = dict['graph_result']\n",
    "    http_index = res.find('http')\n",
    "\n",
    "    if http_index != -1:\n",
    "        image_url = res[http_index:].strip()\n",
    "        text = res[:http_index].strip()\n",
    "\n",
    "        return {\n",
    "            \"question\": dict['question'],\n",
    "            \"image\": image_url,\n",
    "            \"text\": text.replace(\" Image URI:\", \"\")\n",
    "        }\n",
    "    else:\n",
    "        return {\n",
    "            \"question\": dict['question'],\n",
    "            \"image\": None,\n",
    "            \"text\": res.replace(\" Image URI:\", \"\")\n",
    "        }\n",
    "\n",
    "def is_base64(s):\n",
    "    try:\n",
    "        if not re.match('^[A-Za-z0-9+/]+[=]{0,2}$', s):\n",
    "            return False\n",
    "        if len(s) % 4 != 0:\n",
    "            return False\n",
    "        base64.b64decode(s, validate=True)\n",
    "        return True\n",
    "    except Exception:\n",
    "        return False\n",
    "    \n",
    "def encode_image_from_uri(image_uri):\n",
    "    ''' Getting the base64 string from an image URI '''\n",
    "    response = requests.get(image_uri)\n",
    "    if response.status_code == 200:\n",
    "        return base64.b64encode(response.content).decode('utf-8')\n",
    "    else:\n",
    "        raise Exception(f\"Failed to process image.\")"
   ]
  },
  {
   "cell_type": "code",
   "execution_count": 37,
   "id": "6d052f55",
   "metadata": {},
   "outputs": [],
   "source": [
    "def gpt4v_prompt(dict):\n",
    "    if dict['image']!=None and is_base64(b64_img):\n",
    "        b64_img = encode_image_from_uri(dict['image'])\n",
    "        content=[\n",
    "            {\"type\": \"text\", \"text\": f\"\"\"Answer the question based only on the following context, which can include text, tables, and the below image:\n",
    "                Question: {dict[\"question\"]}\n",
    "\n",
    "                Text and tables:\n",
    "                {dict['text']}\n",
    "                \"\"\"\n",
    "            },\n",
    "            {\"type\": \"image_url\", \n",
    "             \"image_url\": {\"url\": f\"data:image/jpeg;base64,{b64_img}\"}},\n",
    "        ]\n",
    "    else:\n",
    "        content=[\n",
    "            {\"type\": \"text\", \"text\": f\"\"\"Answer the question based only on the following context, which can include text, tables, and the below image:\n",
    "                Question: {dict[\"question\"]}\n",
    "\n",
    "                Text and tables:\n",
    "                {dict['text']}\n",
    "                \"\"\"\n",
    "            }\n",
    "        ]\n",
    "        \n",
    "    return [\n",
    "            HumanMessage(\n",
    "                content=content\n",
    "            )\n",
    "        ]\n",
    "        \n",
    "\n",
    "model = ChatOpenAI(temperature=0, model=\"gpt-4-vision-preview\", max_tokens=1024)\n",
    "chain = (\n",
    "    {\n",
    "        \"question\": itemgetter(\"question\"),\n",
    "        \"graph_result\": itemgetter(\"graph_result\")\n",
    "    }\n",
    "    | RunnableLambda(split_text_image)\n",
    "    | RunnableLambda(gpt4v_prompt)\n",
    "    | model\n",
    "    | StrOutputParser()\n",
    ")"
   ]
  },
  {
   "cell_type": "code",
   "execution_count": 41,
   "id": "65f7ba4e",
   "metadata": {},
   "outputs": [
    {
     "data": {
      "text/plain": [
       "'The model that outperforms on the Mmlu benchmark and is very similar to Palm-2 is Gemini Ultra. '"
      ]
     },
     "execution_count": 41,
     "metadata": {},
     "output_type": "execute_result"
    }
   ],
   "source": [
    "res = split_text_image({\"graph_result\": graph_result1, \"question\": \"Which model outperforms on the Mmlu benchmark and is very similar to Palm-2?\"})\n",
    "if res[\"image\"]!=None:\n",
    "    graph_result1 = chain.invoke(\n",
    "        {\"question\": \"Which model outperforms on the Mmlu benchmark and is very similar to Palm-2?\", \"graph_result\": graph_result1}\n",
    "    )\n",
    "else:\n",
    "    graph_result1 = graph_result1.replace(\"Image URI: None\", \"\")\n",
    "graph_result1"
   ]
  },
  {
   "cell_type": "code",
   "execution_count": 42,
   "id": "8d226535",
   "metadata": {},
   "outputs": [
    {
     "data": {
      "text/plain": [
       "'Gemini Models apply Safety Filtering and Quality Filters. '"
      ]
     },
     "execution_count": 42,
     "metadata": {},
     "output_type": "execute_result"
    }
   ],
   "source": [
    "res = split_text_image({\"graph_result\": graph_result2, \"question\": \"Which models apply Safety Filtering and Quality Filters\"})\n",
    "if res[\"image\"]!=None:\n",
    "    graph_result2 = chain.invoke(\n",
    "        {\"question\": \"Which models apply Safety Filtering and Quality Filters\", \"graph_result\": graph_result2}\n",
    "    )\n",
    "else:\n",
    "    graph_result2 = graph_result2.replace(\"Image URI: None\", \"\")\n",
    "graph_result2"
   ]
  },
  {
   "cell_type": "markdown",
   "id": "42430a85",
   "metadata": {},
   "source": [
    "## Mistral-7b-Instruct"
   ]
  },
  {
   "cell_type": "markdown",
   "id": "d57e1d36",
   "metadata": {},
   "source": [
    "We setup the Mistral-7B endpoint from Hugging Face within the AWS SageMaker environment."
   ]
  },
  {
   "cell_type": "code",
   "execution_count": 43,
   "id": "d63fc12f",
   "metadata": {},
   "outputs": [
    {
     "name": "stdout",
     "output_type": "stream",
     "text": [
      "sagemaker.config INFO - Not applying SDK defaults from location: /etc/xdg/sagemaker/config.yaml\n",
      "sagemaker.config INFO - Not applying SDK defaults from location: /home/ec2-user/.config/sagemaker/config.yaml\n"
     ]
    }
   ],
   "source": [
    "import json\n",
    "import sagemaker\n",
    "import boto3\n",
    "from sagemaker.huggingface import HuggingFaceModel, get_huggingface_llm_image_uri"
   ]
  },
  {
   "cell_type": "code",
   "execution_count": 44,
   "id": "97185157",
   "metadata": {},
   "outputs": [],
   "source": [
    "try:\n",
    "    role = sagemaker.get_execution_role()\n",
    "except ValueError:\n",
    "    iam = boto3.client('iam')\n",
    "    role = iam.get_role(RoleName='sagemaker_execution_role')['Role']['Arn']\n",
    "\n",
    "hub = {\n",
    "    'HF_MODEL_ID':'mistralai/Mistral-7B-Instruct-v0.1',\n",
    "    'SM_NUM_GPUS': json.dumps(1)\n",
    "}"
   ]
  },
  {
   "cell_type": "code",
   "execution_count": 45,
   "id": "6c8fd850",
   "metadata": {},
   "outputs": [],
   "source": [
    "huggingface_model = HuggingFaceModel(\n",
    "    image_uri=get_huggingface_llm_image_uri(\"huggingface\",version=\"1.1.0\"),\n",
    "    env=hub,\n",
    "    role=role,\n",
    ")"
   ]
  },
  {
   "cell_type": "markdown",
   "id": "fcb478b4",
   "metadata": {},
   "source": [
    "The final response is crafted by constructing a prompt that includes an instruction, relevant data from the vector index, relevant information from the graph database, and the user's query. This prompt is then passed to the Mistral-7b model, which generates a meaningful and accurate response based on the provided information."
   ]
  },
  {
   "cell_type": "code",
   "execution_count": 46,
   "id": "6d1a4c7f",
   "metadata": {},
   "outputs": [
    {
     "name": "stdout",
     "output_type": "stream",
     "text": [
      "--------!"
     ]
    }
   ],
   "source": [
    "mistral7b_predictor = huggingface_model.deploy(\n",
    "    initial_instance_count=1,\n",
    "    instance_type=\"ml.g5.4xlarge\",\n",
    "    container_startup_health_check_timeout=300,\n",
    ")"
   ]
  },
  {
   "cell_type": "code",
   "execution_count": 48,
   "id": "6fcc82b9",
   "metadata": {},
   "outputs": [
    {
     "name": "stdout",
     "output_type": "stream",
     "text": [
      "Gemini Ultra outperforms on the MMLU benchmark and is very similar\n"
     ]
    }
   ],
   "source": [
    "query = \"Which model outperforms on the Mmlu benchmark and is very similar to Palm-2?\"\n",
    "final_prompt = f\"\"\"<s>[INST]You are a helpful question-answering agent. Use the below \n",
    "context to answer the question:\n",
    "\n",
    "Context1: {vector_result1}\n",
    "Context2: {graph_result1}\n",
    "\n",
    "Question: {query}\n",
    "Answer:[/INST]\n",
    "\"\"\"\n",
    "\n",
    "response = mistral7b_predictor.predict({\n",
    "    \"inputs\": final_prompt,\n",
    "})\n",
    "\n",
    "print(re.search(r\"Answer:\\[\\s*/INST\\s*\\]\\n\\n(.+)\", response[0]['generated_text']).group(1))"
   ]
  },
  {
   "cell_type": "code",
   "execution_count": 49,
   "id": "191a2ed9",
   "metadata": {},
   "outputs": [
    {
     "name": "stdout",
     "output_type": "stream",
     "text": [
      "Gemini models apply Safety Filtering and Quality Filters.\n"
     ]
    }
   ],
   "source": [
    "query = \"Which models apply Safety Filtering and Quality Filters\"\n",
    "final_prompt = f\"\"\"<s>[INST]You are a helpful question-answering agent. Use the below \n",
    "context to answer the question:\n",
    "\n",
    "Context1: {vector_result2}\n",
    "Context2: {graph_result2}\n",
    "\n",
    "Question: {query}\n",
    "Answer:[/INST]\n",
    "\"\"\"\n",
    "\n",
    "response = mistral7b_predictor.predict({\n",
    "    \"inputs\": final_prompt,\n",
    "})\n",
    "\n",
    "print(re.search(r\"Answer:\\[\\s*/INST\\s*\\]\\n\\n(.+)\", response[0]['generated_text']).group(1))"
   ]
  },
  {
   "cell_type": "code",
   "execution_count": null,
   "id": "b02eef49",
   "metadata": {},
   "outputs": [],
   "source": []
  }
 ],
 "metadata": {
  "kernelspec": {
   "display_name": "genAI",
   "language": "python",
   "name": "python3"
  },
  "language_info": {
   "codemirror_mode": {
    "name": "ipython",
    "version": 3
   },
   "file_extension": ".py",
   "mimetype": "text/x-python",
   "name": "python",
   "nbconvert_exporter": "python",
   "pygments_lexer": "ipython3",
   "version": "3.11.5"
  }
 },
 "nbformat": 4,
 "nbformat_minor": 5
}
